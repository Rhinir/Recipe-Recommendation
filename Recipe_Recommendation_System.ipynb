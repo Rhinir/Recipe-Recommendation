{
  "cells": [
    {
      "cell_type": "markdown",
      "metadata": {
        "id": "scKSeAq8Lghe"
      },
      "source": [
        "# Recipe Recommendation System"
      ]
    },
    {
      "cell_type": "markdown",
      "metadata": {
        "id": "2vKORgVMLghg"
      },
      "source": [
        "### The Data"
      ]
    },
    {
      "cell_type": "code",
      "execution_count": 1,
      "metadata": {
        "id": "XHIsHWXNLghh"
      },
      "outputs": [],
      "source": [
        "import pandas as pd\n",
        "import numpy as np\n",
        "import re\n",
        "import spacy\n",
        "import ast"
      ]
    },
    {
      "cell_type": "code",
      "source": [
        "from google.colab import drive\n",
        "drive.mount('/content/drive')"
      ],
      "metadata": {
        "colab": {
          "base_uri": "https://localhost:8080/"
        },
        "id": "Xo7xc-3v5P-i",
        "outputId": "eeaf27b8-2b64-410d-f9e9-af35ba88b643"
      },
      "execution_count": 6,
      "outputs": [
        {
          "output_type": "stream",
          "name": "stdout",
          "text": [
            "Drive already mounted at /content/drive; to attempt to forcibly remount, call drive.mount(\"/content/drive\", force_remount=True).\n"
          ]
        }
      ]
    },
    {
      "cell_type": "code",
      "execution_count": 8,
      "metadata": {
        "colab": {
          "base_uri": "https://localhost:8080/",
          "height": 310
        },
        "id": "MUutB8feLghl",
        "outputId": "588b1066-c477-4dba-dfde-de3a930eab36",
        "collapsed": true
      },
      "outputs": [
        {
          "output_type": "stream",
          "name": "stdout",
          "text": [
            "(10000, 6)\n"
          ]
        },
        {
          "output_type": "execute_result",
          "data": {
            "text/plain": [
              "                   title                                        ingredients  \\\n",
              "0    No-Bake Nut Cookies  [\"1 c. firmly packed brown sugar\", \"1/2 c. eva...   \n",
              "1  Jewell Ball'S Chicken  [\"1 small jar chipped beef, cut up\", \"4 boned ...   \n",
              "2            Creamy Corn  [\"2 (16 oz.) pkg. frozen corn\", \"1 (8 oz.) pkg...   \n",
              "3          Chicken Funny  [\"1 large whole chicken\", \"2 (10 1/2 oz.) cans...   \n",
              "4   Reeses Cups(Candy)    [\"1 c. peanut butter\", \"3/4 c. graham cracker ...   \n",
              "\n",
              "                                          directions  \\\n",
              "0  [\"In a heavy 2-quart saucepan, mix brown sugar...   \n",
              "1  [\"Place chipped beef on bottom of baking dish....   \n",
              "2  [\"In a slow cooker, combine all ingredients. C...   \n",
              "3  [\"Boil and debone chicken.\", \"Put bite size pi...   \n",
              "4  [\"Combine first four ingredients and press in ...   \n",
              "\n",
              "                                              link    source  \\\n",
              "0   www.cookbooks.com/Recipe-Details.aspx?id=44874  Gathered   \n",
              "1  www.cookbooks.com/Recipe-Details.aspx?id=699419  Gathered   \n",
              "2   www.cookbooks.com/Recipe-Details.aspx?id=10570  Gathered   \n",
              "3  www.cookbooks.com/Recipe-Details.aspx?id=897570  Gathered   \n",
              "4  www.cookbooks.com/Recipe-Details.aspx?id=659239  Gathered   \n",
              "\n",
              "                                                 NER  \n",
              "0  [\"brown sugar\", \"milk\", \"vanilla\", \"nuts\", \"bu...  \n",
              "1  [\"beef\", \"chicken breasts\", \"cream of mushroom...  \n",
              "2  [\"frozen corn\", \"cream cheese\", \"butter\", \"gar...  \n",
              "3  [\"chicken\", \"chicken gravy\", \"cream of mushroo...  \n",
              "4  [\"peanut butter\", \"graham cracker crumbs\", \"bu...  "
            ],
            "text/html": [
              "\n",
              "  <div id=\"df-7647469c-5f56-41db-9ecd-77d99933d57d\" class=\"colab-df-container\">\n",
              "    <div>\n",
              "<style scoped>\n",
              "    .dataframe tbody tr th:only-of-type {\n",
              "        vertical-align: middle;\n",
              "    }\n",
              "\n",
              "    .dataframe tbody tr th {\n",
              "        vertical-align: top;\n",
              "    }\n",
              "\n",
              "    .dataframe thead th {\n",
              "        text-align: right;\n",
              "    }\n",
              "</style>\n",
              "<table border=\"1\" class=\"dataframe\">\n",
              "  <thead>\n",
              "    <tr style=\"text-align: right;\">\n",
              "      <th></th>\n",
              "      <th>title</th>\n",
              "      <th>ingredients</th>\n",
              "      <th>directions</th>\n",
              "      <th>link</th>\n",
              "      <th>source</th>\n",
              "      <th>NER</th>\n",
              "    </tr>\n",
              "  </thead>\n",
              "  <tbody>\n",
              "    <tr>\n",
              "      <th>0</th>\n",
              "      <td>No-Bake Nut Cookies</td>\n",
              "      <td>[\"1 c. firmly packed brown sugar\", \"1/2 c. eva...</td>\n",
              "      <td>[\"In a heavy 2-quart saucepan, mix brown sugar...</td>\n",
              "      <td>www.cookbooks.com/Recipe-Details.aspx?id=44874</td>\n",
              "      <td>Gathered</td>\n",
              "      <td>[\"brown sugar\", \"milk\", \"vanilla\", \"nuts\", \"bu...</td>\n",
              "    </tr>\n",
              "    <tr>\n",
              "      <th>1</th>\n",
              "      <td>Jewell Ball'S Chicken</td>\n",
              "      <td>[\"1 small jar chipped beef, cut up\", \"4 boned ...</td>\n",
              "      <td>[\"Place chipped beef on bottom of baking dish....</td>\n",
              "      <td>www.cookbooks.com/Recipe-Details.aspx?id=699419</td>\n",
              "      <td>Gathered</td>\n",
              "      <td>[\"beef\", \"chicken breasts\", \"cream of mushroom...</td>\n",
              "    </tr>\n",
              "    <tr>\n",
              "      <th>2</th>\n",
              "      <td>Creamy Corn</td>\n",
              "      <td>[\"2 (16 oz.) pkg. frozen corn\", \"1 (8 oz.) pkg...</td>\n",
              "      <td>[\"In a slow cooker, combine all ingredients. C...</td>\n",
              "      <td>www.cookbooks.com/Recipe-Details.aspx?id=10570</td>\n",
              "      <td>Gathered</td>\n",
              "      <td>[\"frozen corn\", \"cream cheese\", \"butter\", \"gar...</td>\n",
              "    </tr>\n",
              "    <tr>\n",
              "      <th>3</th>\n",
              "      <td>Chicken Funny</td>\n",
              "      <td>[\"1 large whole chicken\", \"2 (10 1/2 oz.) cans...</td>\n",
              "      <td>[\"Boil and debone chicken.\", \"Put bite size pi...</td>\n",
              "      <td>www.cookbooks.com/Recipe-Details.aspx?id=897570</td>\n",
              "      <td>Gathered</td>\n",
              "      <td>[\"chicken\", \"chicken gravy\", \"cream of mushroo...</td>\n",
              "    </tr>\n",
              "    <tr>\n",
              "      <th>4</th>\n",
              "      <td>Reeses Cups(Candy)</td>\n",
              "      <td>[\"1 c. peanut butter\", \"3/4 c. graham cracker ...</td>\n",
              "      <td>[\"Combine first four ingredients and press in ...</td>\n",
              "      <td>www.cookbooks.com/Recipe-Details.aspx?id=659239</td>\n",
              "      <td>Gathered</td>\n",
              "      <td>[\"peanut butter\", \"graham cracker crumbs\", \"bu...</td>\n",
              "    </tr>\n",
              "  </tbody>\n",
              "</table>\n",
              "</div>\n",
              "    <div class=\"colab-df-buttons\">\n",
              "\n",
              "  <div class=\"colab-df-container\">\n",
              "    <button class=\"colab-df-convert\" onclick=\"convertToInteractive('df-7647469c-5f56-41db-9ecd-77d99933d57d')\"\n",
              "            title=\"Convert this dataframe to an interactive table.\"\n",
              "            style=\"display:none;\">\n",
              "\n",
              "  <svg xmlns=\"http://www.w3.org/2000/svg\" height=\"24px\" viewBox=\"0 -960 960 960\">\n",
              "    <path d=\"M120-120v-720h720v720H120Zm60-500h600v-160H180v160Zm220 220h160v-160H400v160Zm0 220h160v-160H400v160ZM180-400h160v-160H180v160Zm440 0h160v-160H620v160ZM180-180h160v-160H180v160Zm440 0h160v-160H620v160Z\"/>\n",
              "  </svg>\n",
              "    </button>\n",
              "\n",
              "  <style>\n",
              "    .colab-df-container {\n",
              "      display:flex;\n",
              "      gap: 12px;\n",
              "    }\n",
              "\n",
              "    .colab-df-convert {\n",
              "      background-color: #E8F0FE;\n",
              "      border: none;\n",
              "      border-radius: 50%;\n",
              "      cursor: pointer;\n",
              "      display: none;\n",
              "      fill: #1967D2;\n",
              "      height: 32px;\n",
              "      padding: 0 0 0 0;\n",
              "      width: 32px;\n",
              "    }\n",
              "\n",
              "    .colab-df-convert:hover {\n",
              "      background-color: #E2EBFA;\n",
              "      box-shadow: 0px 1px 2px rgba(60, 64, 67, 0.3), 0px 1px 3px 1px rgba(60, 64, 67, 0.15);\n",
              "      fill: #174EA6;\n",
              "    }\n",
              "\n",
              "    .colab-df-buttons div {\n",
              "      margin-bottom: 4px;\n",
              "    }\n",
              "\n",
              "    [theme=dark] .colab-df-convert {\n",
              "      background-color: #3B4455;\n",
              "      fill: #D2E3FC;\n",
              "    }\n",
              "\n",
              "    [theme=dark] .colab-df-convert:hover {\n",
              "      background-color: #434B5C;\n",
              "      box-shadow: 0px 1px 3px 1px rgba(0, 0, 0, 0.15);\n",
              "      filter: drop-shadow(0px 1px 2px rgba(0, 0, 0, 0.3));\n",
              "      fill: #FFFFFF;\n",
              "    }\n",
              "  </style>\n",
              "\n",
              "    <script>\n",
              "      const buttonEl =\n",
              "        document.querySelector('#df-7647469c-5f56-41db-9ecd-77d99933d57d button.colab-df-convert');\n",
              "      buttonEl.style.display =\n",
              "        google.colab.kernel.accessAllowed ? 'block' : 'none';\n",
              "\n",
              "      async function convertToInteractive(key) {\n",
              "        const element = document.querySelector('#df-7647469c-5f56-41db-9ecd-77d99933d57d');\n",
              "        const dataTable =\n",
              "          await google.colab.kernel.invokeFunction('convertToInteractive',\n",
              "                                                    [key], {});\n",
              "        if (!dataTable) return;\n",
              "\n",
              "        const docLinkHtml = 'Like what you see? Visit the ' +\n",
              "          '<a target=\"_blank\" href=https://colab.research.google.com/notebooks/data_table.ipynb>data table notebook</a>'\n",
              "          + ' to learn more about interactive tables.';\n",
              "        element.innerHTML = '';\n",
              "        dataTable['output_type'] = 'display_data';\n",
              "        await google.colab.output.renderOutput(dataTable, element);\n",
              "        const docLink = document.createElement('div');\n",
              "        docLink.innerHTML = docLinkHtml;\n",
              "        element.appendChild(docLink);\n",
              "      }\n",
              "    </script>\n",
              "  </div>\n",
              "\n",
              "\n",
              "<div id=\"df-b3029356-dad9-4542-ad63-a5af7029e7e7\">\n",
              "  <button class=\"colab-df-quickchart\" onclick=\"quickchart('df-b3029356-dad9-4542-ad63-a5af7029e7e7')\"\n",
              "            title=\"Suggest charts\"\n",
              "            style=\"display:none;\">\n",
              "\n",
              "<svg xmlns=\"http://www.w3.org/2000/svg\" height=\"24px\"viewBox=\"0 0 24 24\"\n",
              "     width=\"24px\">\n",
              "    <g>\n",
              "        <path d=\"M19 3H5c-1.1 0-2 .9-2 2v14c0 1.1.9 2 2 2h14c1.1 0 2-.9 2-2V5c0-1.1-.9-2-2-2zM9 17H7v-7h2v7zm4 0h-2V7h2v10zm4 0h-2v-4h2v4z\"/>\n",
              "    </g>\n",
              "</svg>\n",
              "  </button>\n",
              "\n",
              "<style>\n",
              "  .colab-df-quickchart {\n",
              "      --bg-color: #E8F0FE;\n",
              "      --fill-color: #1967D2;\n",
              "      --hover-bg-color: #E2EBFA;\n",
              "      --hover-fill-color: #174EA6;\n",
              "      --disabled-fill-color: #AAA;\n",
              "      --disabled-bg-color: #DDD;\n",
              "  }\n",
              "\n",
              "  [theme=dark] .colab-df-quickchart {\n",
              "      --bg-color: #3B4455;\n",
              "      --fill-color: #D2E3FC;\n",
              "      --hover-bg-color: #434B5C;\n",
              "      --hover-fill-color: #FFFFFF;\n",
              "      --disabled-bg-color: #3B4455;\n",
              "      --disabled-fill-color: #666;\n",
              "  }\n",
              "\n",
              "  .colab-df-quickchart {\n",
              "    background-color: var(--bg-color);\n",
              "    border: none;\n",
              "    border-radius: 50%;\n",
              "    cursor: pointer;\n",
              "    display: none;\n",
              "    fill: var(--fill-color);\n",
              "    height: 32px;\n",
              "    padding: 0;\n",
              "    width: 32px;\n",
              "  }\n",
              "\n",
              "  .colab-df-quickchart:hover {\n",
              "    background-color: var(--hover-bg-color);\n",
              "    box-shadow: 0 1px 2px rgba(60, 64, 67, 0.3), 0 1px 3px 1px rgba(60, 64, 67, 0.15);\n",
              "    fill: var(--button-hover-fill-color);\n",
              "  }\n",
              "\n",
              "  .colab-df-quickchart-complete:disabled,\n",
              "  .colab-df-quickchart-complete:disabled:hover {\n",
              "    background-color: var(--disabled-bg-color);\n",
              "    fill: var(--disabled-fill-color);\n",
              "    box-shadow: none;\n",
              "  }\n",
              "\n",
              "  .colab-df-spinner {\n",
              "    border: 2px solid var(--fill-color);\n",
              "    border-color: transparent;\n",
              "    border-bottom-color: var(--fill-color);\n",
              "    animation:\n",
              "      spin 1s steps(1) infinite;\n",
              "  }\n",
              "\n",
              "  @keyframes spin {\n",
              "    0% {\n",
              "      border-color: transparent;\n",
              "      border-bottom-color: var(--fill-color);\n",
              "      border-left-color: var(--fill-color);\n",
              "    }\n",
              "    20% {\n",
              "      border-color: transparent;\n",
              "      border-left-color: var(--fill-color);\n",
              "      border-top-color: var(--fill-color);\n",
              "    }\n",
              "    30% {\n",
              "      border-color: transparent;\n",
              "      border-left-color: var(--fill-color);\n",
              "      border-top-color: var(--fill-color);\n",
              "      border-right-color: var(--fill-color);\n",
              "    }\n",
              "    40% {\n",
              "      border-color: transparent;\n",
              "      border-right-color: var(--fill-color);\n",
              "      border-top-color: var(--fill-color);\n",
              "    }\n",
              "    60% {\n",
              "      border-color: transparent;\n",
              "      border-right-color: var(--fill-color);\n",
              "    }\n",
              "    80% {\n",
              "      border-color: transparent;\n",
              "      border-right-color: var(--fill-color);\n",
              "      border-bottom-color: var(--fill-color);\n",
              "    }\n",
              "    90% {\n",
              "      border-color: transparent;\n",
              "      border-bottom-color: var(--fill-color);\n",
              "    }\n",
              "  }\n",
              "</style>\n",
              "\n",
              "  <script>\n",
              "    async function quickchart(key) {\n",
              "      const quickchartButtonEl =\n",
              "        document.querySelector('#' + key + ' button');\n",
              "      quickchartButtonEl.disabled = true;  // To prevent multiple clicks.\n",
              "      quickchartButtonEl.classList.add('colab-df-spinner');\n",
              "      try {\n",
              "        const charts = await google.colab.kernel.invokeFunction(\n",
              "            'suggestCharts', [key], {});\n",
              "      } catch (error) {\n",
              "        console.error('Error during call to suggestCharts:', error);\n",
              "      }\n",
              "      quickchartButtonEl.classList.remove('colab-df-spinner');\n",
              "      quickchartButtonEl.classList.add('colab-df-quickchart-complete');\n",
              "    }\n",
              "    (() => {\n",
              "      let quickchartButtonEl =\n",
              "        document.querySelector('#df-b3029356-dad9-4542-ad63-a5af7029e7e7 button');\n",
              "      quickchartButtonEl.style.display =\n",
              "        google.colab.kernel.accessAllowed ? 'block' : 'none';\n",
              "    })();\n",
              "  </script>\n",
              "</div>\n",
              "\n",
              "    </div>\n",
              "  </div>\n"
            ],
            "application/vnd.google.colaboratory.intrinsic+json": {
              "type": "dataframe",
              "variable_name": "recipes",
              "summary": "{\n  \"name\": \"recipes\",\n  \"rows\": 10000,\n  \"fields\": [\n    {\n      \"column\": \"title\",\n      \"properties\": {\n        \"dtype\": \"string\",\n        \"num_unique_values\": 7194,\n        \"samples\": [\n          \"Strawberry Shake\",\n          \"Pumpkin Chiffon Cake\",\n          \"Black Bean Salad\"\n        ],\n        \"semantic_type\": \"\",\n        \"description\": \"\"\n      }\n    },\n    {\n      \"column\": \"ingredients\",\n      \"properties\": {\n        \"dtype\": \"string\",\n        \"num_unique_values\": 9999,\n        \"samples\": [\n          \"[\\\"2 sticks margarine\\\", \\\"1/2 c. sugar\\\", \\\"graham crackers\\\", \\\"chopped nuts\\\", \\\"Hershey bars\\\"]\",\n          \"[\\\"2 c. coarsely chopped pretzels\\\", \\\"3/4 c. melted margarine\\\", \\\"2 Tbsp. sugar\\\", \\\"8 oz. cream cheese, softened\\\", \\\"8 oz. whipped topping\\\", \\\"1/2 c. sugar\\\", \\\"1 large pkg. strawberry jello\\\", \\\"2 c. boiling water\\\", \\\"2 (10 oz.) pkg. frozen strawberries\\\"]\",\n          \"[\\\"4 (6 oz.) boneless, skinned chicken breasts\\\", \\\"3 Tbsp. flour\\\", \\\"1 Tbsp. curry powder\\\", \\\"4 Tbsp. oil\\\", \\\"1 Tbsp. sugar\\\", \\\"2 chicken bouillon cubes\\\", \\\"1 c. water\\\", \\\"16 oz. can apricots\\\", \\\"1/2 c. chopped onion\\\", \\\"1 c. sliced mushrooms\\\", \\\"2 Tbsp. soy sauce\\\", \\\"2 Tbsp. lemon juice\\\"]\"\n        ],\n        \"semantic_type\": \"\",\n        \"description\": \"\"\n      }\n    },\n    {\n      \"column\": \"directions\",\n      \"properties\": {\n        \"dtype\": \"string\",\n        \"num_unique_values\": 9989,\n        \"samples\": [\n          \"[\\\"Adjust oven rack to lowest position.\\\", \\\"Preheat oven to 350\\\\u00b0. In food processor with steel blade, combine flour, salt and Crisco; pulse about 6 seconds, until mixture resembles coarse crumbs.\\\", \\\"Add milk and process until dough forms a ball.\\\", \\\"Continue processing 2 minutes.\\\", \\\"On floured surface, roll dough into rectangle 1/4-inch thick.\\\", \\\"Fold dough in half, pressing lightly. With a 1 1/2-inch biscuit cutter, cut out dough and place on cookie sheet.\\\", \\\"Re-roll scraps and repeat, cutting more biscuits. Prick each biscuit with a fork.\\\", \\\"Bake 30 to 35 minutes, until pale golden.\\\", \\\"Turn off oven, leave biscuits in oven for 35 minutes. Makes about 2 1/2 dozen.\\\", \\\"Contains 100 calories each.\\\"]\",\n          \"[\\\"Cream the margarine, cream cheese and sugar.\\\", \\\"Add eggs and vanilla; beat well.\\\", \\\"Sift together the flour, baking powder, baking soda and salt.\\\", \\\"Add alternately with milk, mixing well after each addition. Pour into a greased and floured 13 x 9-inch pan.\\\", \\\"Sprinkle with crumb topping.\\\", \\\"Bake at 350\\\\u00b0 for 35 to 40 minutes.\\\"]\",\n          \"[\\\"Mix in pan the sugar, cornstarch and salt. Stir milk in gradually. Cook, stirring constantly, until mixture boils.\\\", \\\"Remove from heat.\\\", \\\"Stir in vanilla.\\\"]\"\n        ],\n        \"semantic_type\": \"\",\n        \"description\": \"\"\n      }\n    },\n    {\n      \"column\": \"link\",\n      \"properties\": {\n        \"dtype\": \"string\",\n        \"num_unique_values\": 10000,\n        \"samples\": [\n          \"www.cookbooks.com/Recipe-Details.aspx?id=1062310\",\n          \"www.cookbooks.com/Recipe-Details.aspx?id=217349\",\n          \"www.cookbooks.com/Recipe-Details.aspx?id=1018986\"\n        ],\n        \"semantic_type\": \"\",\n        \"description\": \"\"\n      }\n    },\n    {\n      \"column\": \"source\",\n      \"properties\": {\n        \"dtype\": \"category\",\n        \"num_unique_values\": 1,\n        \"samples\": [\n          \"Gathered\"\n        ],\n        \"semantic_type\": \"\",\n        \"description\": \"\"\n      }\n    },\n    {\n      \"column\": \"NER\",\n      \"properties\": {\n        \"dtype\": \"string\",\n        \"num_unique_values\": 9953,\n        \"samples\": [\n          \"[\\\"egg\\\", \\\"celery\\\", \\\"potatoes\\\", \\\"pimentos\\\", \\\"onions\\\", \\\"yogurt\\\", \\\"mustard\\\", \\\"salt\\\"]\"\n        ],\n        \"semantic_type\": \"\",\n        \"description\": \"\"\n      }\n    }\n  ]\n}"
            }
          },
          "metadata": {},
          "execution_count": 8
        }
      ],
      "source": [
        "# recipes = pd.concat([allrecipes, epicurious, foodnetwork]).reset_index(drop=True) # Concat does not reset indices\n",
        "recipes = pd.read_csv('/content/drive/MyDrive/Info Retrieval/full_dataset.csv', index_col=0, nrows=10000)\n",
        "print(recipes.shape)\n",
        "recipes.head()"
      ]
    },
    {
      "cell_type": "code",
      "source": [
        "recipes['instructions'] = recipes['directions'].apply(lambda x: ' '.join(ast.literal_eval(x)))"
      ],
      "metadata": {
        "id": "cjTKxvgx4-Xu"
      },
      "execution_count": 9,
      "outputs": []
    },
    {
      "cell_type": "code",
      "source": [
        "recipes = recipes.rename(columns={'link': 'picture_link'})\n",
        "recipes = recipes.drop(labels = ['directions', 'source', 'NER'], axis=1)\n",
        "recipes.head()"
      ],
      "metadata": {
        "colab": {
          "base_uri": "https://localhost:8080/",
          "height": 206
        },
        "id": "3ggL3ckW0PFz",
        "outputId": "027772de-06ff-4a63-b961-801623715370"
      },
      "execution_count": 10,
      "outputs": [
        {
          "output_type": "execute_result",
          "data": {
            "text/plain": [
              "                   title                                        ingredients  \\\n",
              "0    No-Bake Nut Cookies  [\"1 c. firmly packed brown sugar\", \"1/2 c. eva...   \n",
              "1  Jewell Ball'S Chicken  [\"1 small jar chipped beef, cut up\", \"4 boned ...   \n",
              "2            Creamy Corn  [\"2 (16 oz.) pkg. frozen corn\", \"1 (8 oz.) pkg...   \n",
              "3          Chicken Funny  [\"1 large whole chicken\", \"2 (10 1/2 oz.) cans...   \n",
              "4   Reeses Cups(Candy)    [\"1 c. peanut butter\", \"3/4 c. graham cracker ...   \n",
              "\n",
              "                                      picture_link  \\\n",
              "0   www.cookbooks.com/Recipe-Details.aspx?id=44874   \n",
              "1  www.cookbooks.com/Recipe-Details.aspx?id=699419   \n",
              "2   www.cookbooks.com/Recipe-Details.aspx?id=10570   \n",
              "3  www.cookbooks.com/Recipe-Details.aspx?id=897570   \n",
              "4  www.cookbooks.com/Recipe-Details.aspx?id=659239   \n",
              "\n",
              "                                        instructions  \n",
              "0  In a heavy 2-quart saucepan, mix brown sugar, ...  \n",
              "1  Place chipped beef on bottom of baking dish. P...  \n",
              "2  In a slow cooker, combine all ingredients. Cov...  \n",
              "3  Boil and debone chicken. Put bite size pieces ...  \n",
              "4  Combine first four ingredients and press in 13...  "
            ],
            "text/html": [
              "\n",
              "  <div id=\"df-c6464536-6e30-44a1-b675-da5cb1297868\" class=\"colab-df-container\">\n",
              "    <div>\n",
              "<style scoped>\n",
              "    .dataframe tbody tr th:only-of-type {\n",
              "        vertical-align: middle;\n",
              "    }\n",
              "\n",
              "    .dataframe tbody tr th {\n",
              "        vertical-align: top;\n",
              "    }\n",
              "\n",
              "    .dataframe thead th {\n",
              "        text-align: right;\n",
              "    }\n",
              "</style>\n",
              "<table border=\"1\" class=\"dataframe\">\n",
              "  <thead>\n",
              "    <tr style=\"text-align: right;\">\n",
              "      <th></th>\n",
              "      <th>title</th>\n",
              "      <th>ingredients</th>\n",
              "      <th>picture_link</th>\n",
              "      <th>instructions</th>\n",
              "    </tr>\n",
              "  </thead>\n",
              "  <tbody>\n",
              "    <tr>\n",
              "      <th>0</th>\n",
              "      <td>No-Bake Nut Cookies</td>\n",
              "      <td>[\"1 c. firmly packed brown sugar\", \"1/2 c. eva...</td>\n",
              "      <td>www.cookbooks.com/Recipe-Details.aspx?id=44874</td>\n",
              "      <td>In a heavy 2-quart saucepan, mix brown sugar, ...</td>\n",
              "    </tr>\n",
              "    <tr>\n",
              "      <th>1</th>\n",
              "      <td>Jewell Ball'S Chicken</td>\n",
              "      <td>[\"1 small jar chipped beef, cut up\", \"4 boned ...</td>\n",
              "      <td>www.cookbooks.com/Recipe-Details.aspx?id=699419</td>\n",
              "      <td>Place chipped beef on bottom of baking dish. P...</td>\n",
              "    </tr>\n",
              "    <tr>\n",
              "      <th>2</th>\n",
              "      <td>Creamy Corn</td>\n",
              "      <td>[\"2 (16 oz.) pkg. frozen corn\", \"1 (8 oz.) pkg...</td>\n",
              "      <td>www.cookbooks.com/Recipe-Details.aspx?id=10570</td>\n",
              "      <td>In a slow cooker, combine all ingredients. Cov...</td>\n",
              "    </tr>\n",
              "    <tr>\n",
              "      <th>3</th>\n",
              "      <td>Chicken Funny</td>\n",
              "      <td>[\"1 large whole chicken\", \"2 (10 1/2 oz.) cans...</td>\n",
              "      <td>www.cookbooks.com/Recipe-Details.aspx?id=897570</td>\n",
              "      <td>Boil and debone chicken. Put bite size pieces ...</td>\n",
              "    </tr>\n",
              "    <tr>\n",
              "      <th>4</th>\n",
              "      <td>Reeses Cups(Candy)</td>\n",
              "      <td>[\"1 c. peanut butter\", \"3/4 c. graham cracker ...</td>\n",
              "      <td>www.cookbooks.com/Recipe-Details.aspx?id=659239</td>\n",
              "      <td>Combine first four ingredients and press in 13...</td>\n",
              "    </tr>\n",
              "  </tbody>\n",
              "</table>\n",
              "</div>\n",
              "    <div class=\"colab-df-buttons\">\n",
              "\n",
              "  <div class=\"colab-df-container\">\n",
              "    <button class=\"colab-df-convert\" onclick=\"convertToInteractive('df-c6464536-6e30-44a1-b675-da5cb1297868')\"\n",
              "            title=\"Convert this dataframe to an interactive table.\"\n",
              "            style=\"display:none;\">\n",
              "\n",
              "  <svg xmlns=\"http://www.w3.org/2000/svg\" height=\"24px\" viewBox=\"0 -960 960 960\">\n",
              "    <path d=\"M120-120v-720h720v720H120Zm60-500h600v-160H180v160Zm220 220h160v-160H400v160Zm0 220h160v-160H400v160ZM180-400h160v-160H180v160Zm440 0h160v-160H620v160ZM180-180h160v-160H180v160Zm440 0h160v-160H620v160Z\"/>\n",
              "  </svg>\n",
              "    </button>\n",
              "\n",
              "  <style>\n",
              "    .colab-df-container {\n",
              "      display:flex;\n",
              "      gap: 12px;\n",
              "    }\n",
              "\n",
              "    .colab-df-convert {\n",
              "      background-color: #E8F0FE;\n",
              "      border: none;\n",
              "      border-radius: 50%;\n",
              "      cursor: pointer;\n",
              "      display: none;\n",
              "      fill: #1967D2;\n",
              "      height: 32px;\n",
              "      padding: 0 0 0 0;\n",
              "      width: 32px;\n",
              "    }\n",
              "\n",
              "    .colab-df-convert:hover {\n",
              "      background-color: #E2EBFA;\n",
              "      box-shadow: 0px 1px 2px rgba(60, 64, 67, 0.3), 0px 1px 3px 1px rgba(60, 64, 67, 0.15);\n",
              "      fill: #174EA6;\n",
              "    }\n",
              "\n",
              "    .colab-df-buttons div {\n",
              "      margin-bottom: 4px;\n",
              "    }\n",
              "\n",
              "    [theme=dark] .colab-df-convert {\n",
              "      background-color: #3B4455;\n",
              "      fill: #D2E3FC;\n",
              "    }\n",
              "\n",
              "    [theme=dark] .colab-df-convert:hover {\n",
              "      background-color: #434B5C;\n",
              "      box-shadow: 0px 1px 3px 1px rgba(0, 0, 0, 0.15);\n",
              "      filter: drop-shadow(0px 1px 2px rgba(0, 0, 0, 0.3));\n",
              "      fill: #FFFFFF;\n",
              "    }\n",
              "  </style>\n",
              "\n",
              "    <script>\n",
              "      const buttonEl =\n",
              "        document.querySelector('#df-c6464536-6e30-44a1-b675-da5cb1297868 button.colab-df-convert');\n",
              "      buttonEl.style.display =\n",
              "        google.colab.kernel.accessAllowed ? 'block' : 'none';\n",
              "\n",
              "      async function convertToInteractive(key) {\n",
              "        const element = document.querySelector('#df-c6464536-6e30-44a1-b675-da5cb1297868');\n",
              "        const dataTable =\n",
              "          await google.colab.kernel.invokeFunction('convertToInteractive',\n",
              "                                                    [key], {});\n",
              "        if (!dataTable) return;\n",
              "\n",
              "        const docLinkHtml = 'Like what you see? Visit the ' +\n",
              "          '<a target=\"_blank\" href=https://colab.research.google.com/notebooks/data_table.ipynb>data table notebook</a>'\n",
              "          + ' to learn more about interactive tables.';\n",
              "        element.innerHTML = '';\n",
              "        dataTable['output_type'] = 'display_data';\n",
              "        await google.colab.output.renderOutput(dataTable, element);\n",
              "        const docLink = document.createElement('div');\n",
              "        docLink.innerHTML = docLinkHtml;\n",
              "        element.appendChild(docLink);\n",
              "      }\n",
              "    </script>\n",
              "  </div>\n",
              "\n",
              "\n",
              "<div id=\"df-f4cbd5f2-b3e3-4285-baa7-8497a8c944f1\">\n",
              "  <button class=\"colab-df-quickchart\" onclick=\"quickchart('df-f4cbd5f2-b3e3-4285-baa7-8497a8c944f1')\"\n",
              "            title=\"Suggest charts\"\n",
              "            style=\"display:none;\">\n",
              "\n",
              "<svg xmlns=\"http://www.w3.org/2000/svg\" height=\"24px\"viewBox=\"0 0 24 24\"\n",
              "     width=\"24px\">\n",
              "    <g>\n",
              "        <path d=\"M19 3H5c-1.1 0-2 .9-2 2v14c0 1.1.9 2 2 2h14c1.1 0 2-.9 2-2V5c0-1.1-.9-2-2-2zM9 17H7v-7h2v7zm4 0h-2V7h2v10zm4 0h-2v-4h2v4z\"/>\n",
              "    </g>\n",
              "</svg>\n",
              "  </button>\n",
              "\n",
              "<style>\n",
              "  .colab-df-quickchart {\n",
              "      --bg-color: #E8F0FE;\n",
              "      --fill-color: #1967D2;\n",
              "      --hover-bg-color: #E2EBFA;\n",
              "      --hover-fill-color: #174EA6;\n",
              "      --disabled-fill-color: #AAA;\n",
              "      --disabled-bg-color: #DDD;\n",
              "  }\n",
              "\n",
              "  [theme=dark] .colab-df-quickchart {\n",
              "      --bg-color: #3B4455;\n",
              "      --fill-color: #D2E3FC;\n",
              "      --hover-bg-color: #434B5C;\n",
              "      --hover-fill-color: #FFFFFF;\n",
              "      --disabled-bg-color: #3B4455;\n",
              "      --disabled-fill-color: #666;\n",
              "  }\n",
              "\n",
              "  .colab-df-quickchart {\n",
              "    background-color: var(--bg-color);\n",
              "    border: none;\n",
              "    border-radius: 50%;\n",
              "    cursor: pointer;\n",
              "    display: none;\n",
              "    fill: var(--fill-color);\n",
              "    height: 32px;\n",
              "    padding: 0;\n",
              "    width: 32px;\n",
              "  }\n",
              "\n",
              "  .colab-df-quickchart:hover {\n",
              "    background-color: var(--hover-bg-color);\n",
              "    box-shadow: 0 1px 2px rgba(60, 64, 67, 0.3), 0 1px 3px 1px rgba(60, 64, 67, 0.15);\n",
              "    fill: var(--button-hover-fill-color);\n",
              "  }\n",
              "\n",
              "  .colab-df-quickchart-complete:disabled,\n",
              "  .colab-df-quickchart-complete:disabled:hover {\n",
              "    background-color: var(--disabled-bg-color);\n",
              "    fill: var(--disabled-fill-color);\n",
              "    box-shadow: none;\n",
              "  }\n",
              "\n",
              "  .colab-df-spinner {\n",
              "    border: 2px solid var(--fill-color);\n",
              "    border-color: transparent;\n",
              "    border-bottom-color: var(--fill-color);\n",
              "    animation:\n",
              "      spin 1s steps(1) infinite;\n",
              "  }\n",
              "\n",
              "  @keyframes spin {\n",
              "    0% {\n",
              "      border-color: transparent;\n",
              "      border-bottom-color: var(--fill-color);\n",
              "      border-left-color: var(--fill-color);\n",
              "    }\n",
              "    20% {\n",
              "      border-color: transparent;\n",
              "      border-left-color: var(--fill-color);\n",
              "      border-top-color: var(--fill-color);\n",
              "    }\n",
              "    30% {\n",
              "      border-color: transparent;\n",
              "      border-left-color: var(--fill-color);\n",
              "      border-top-color: var(--fill-color);\n",
              "      border-right-color: var(--fill-color);\n",
              "    }\n",
              "    40% {\n",
              "      border-color: transparent;\n",
              "      border-right-color: var(--fill-color);\n",
              "      border-top-color: var(--fill-color);\n",
              "    }\n",
              "    60% {\n",
              "      border-color: transparent;\n",
              "      border-right-color: var(--fill-color);\n",
              "    }\n",
              "    80% {\n",
              "      border-color: transparent;\n",
              "      border-right-color: var(--fill-color);\n",
              "      border-bottom-color: var(--fill-color);\n",
              "    }\n",
              "    90% {\n",
              "      border-color: transparent;\n",
              "      border-bottom-color: var(--fill-color);\n",
              "    }\n",
              "  }\n",
              "</style>\n",
              "\n",
              "  <script>\n",
              "    async function quickchart(key) {\n",
              "      const quickchartButtonEl =\n",
              "        document.querySelector('#' + key + ' button');\n",
              "      quickchartButtonEl.disabled = true;  // To prevent multiple clicks.\n",
              "      quickchartButtonEl.classList.add('colab-df-spinner');\n",
              "      try {\n",
              "        const charts = await google.colab.kernel.invokeFunction(\n",
              "            'suggestCharts', [key], {});\n",
              "      } catch (error) {\n",
              "        console.error('Error during call to suggestCharts:', error);\n",
              "      }\n",
              "      quickchartButtonEl.classList.remove('colab-df-spinner');\n",
              "      quickchartButtonEl.classList.add('colab-df-quickchart-complete');\n",
              "    }\n",
              "    (() => {\n",
              "      let quickchartButtonEl =\n",
              "        document.querySelector('#df-f4cbd5f2-b3e3-4285-baa7-8497a8c944f1 button');\n",
              "      quickchartButtonEl.style.display =\n",
              "        google.colab.kernel.accessAllowed ? 'block' : 'none';\n",
              "    })();\n",
              "  </script>\n",
              "</div>\n",
              "\n",
              "    </div>\n",
              "  </div>\n"
            ],
            "application/vnd.google.colaboratory.intrinsic+json": {
              "type": "dataframe",
              "variable_name": "recipes",
              "summary": "{\n  \"name\": \"recipes\",\n  \"rows\": 10000,\n  \"fields\": [\n    {\n      \"column\": \"title\",\n      \"properties\": {\n        \"dtype\": \"string\",\n        \"num_unique_values\": 7194,\n        \"samples\": [\n          \"Strawberry Shake\",\n          \"Pumpkin Chiffon Cake\",\n          \"Black Bean Salad\"\n        ],\n        \"semantic_type\": \"\",\n        \"description\": \"\"\n      }\n    },\n    {\n      \"column\": \"ingredients\",\n      \"properties\": {\n        \"dtype\": \"string\",\n        \"num_unique_values\": 9999,\n        \"samples\": [\n          \"[\\\"2 sticks margarine\\\", \\\"1/2 c. sugar\\\", \\\"graham crackers\\\", \\\"chopped nuts\\\", \\\"Hershey bars\\\"]\",\n          \"[\\\"2 c. coarsely chopped pretzels\\\", \\\"3/4 c. melted margarine\\\", \\\"2 Tbsp. sugar\\\", \\\"8 oz. cream cheese, softened\\\", \\\"8 oz. whipped topping\\\", \\\"1/2 c. sugar\\\", \\\"1 large pkg. strawberry jello\\\", \\\"2 c. boiling water\\\", \\\"2 (10 oz.) pkg. frozen strawberries\\\"]\",\n          \"[\\\"4 (6 oz.) boneless, skinned chicken breasts\\\", \\\"3 Tbsp. flour\\\", \\\"1 Tbsp. curry powder\\\", \\\"4 Tbsp. oil\\\", \\\"1 Tbsp. sugar\\\", \\\"2 chicken bouillon cubes\\\", \\\"1 c. water\\\", \\\"16 oz. can apricots\\\", \\\"1/2 c. chopped onion\\\", \\\"1 c. sliced mushrooms\\\", \\\"2 Tbsp. soy sauce\\\", \\\"2 Tbsp. lemon juice\\\"]\"\n        ],\n        \"semantic_type\": \"\",\n        \"description\": \"\"\n      }\n    },\n    {\n      \"column\": \"picture_link\",\n      \"properties\": {\n        \"dtype\": \"string\",\n        \"num_unique_values\": 10000,\n        \"samples\": [\n          \"www.cookbooks.com/Recipe-Details.aspx?id=1062310\",\n          \"www.cookbooks.com/Recipe-Details.aspx?id=217349\",\n          \"www.cookbooks.com/Recipe-Details.aspx?id=1018986\"\n        ],\n        \"semantic_type\": \"\",\n        \"description\": \"\"\n      }\n    },\n    {\n      \"column\": \"instructions\",\n      \"properties\": {\n        \"dtype\": \"string\",\n        \"num_unique_values\": 9989,\n        \"samples\": [\n          \"Adjust oven rack to lowest position. Preheat oven to 350\\u00b0. In food processor with steel blade, combine flour, salt and Crisco; pulse about 6 seconds, until mixture resembles coarse crumbs. Add milk and process until dough forms a ball. Continue processing 2 minutes. On floured surface, roll dough into rectangle 1/4-inch thick. Fold dough in half, pressing lightly. With a 1 1/2-inch biscuit cutter, cut out dough and place on cookie sheet. Re-roll scraps and repeat, cutting more biscuits. Prick each biscuit with a fork. Bake 30 to 35 minutes, until pale golden. Turn off oven, leave biscuits in oven for 35 minutes. Makes about 2 1/2 dozen. Contains 100 calories each.\",\n          \"Cream the margarine, cream cheese and sugar. Add eggs and vanilla; beat well. Sift together the flour, baking powder, baking soda and salt. Add alternately with milk, mixing well after each addition. Pour into a greased and floured 13 x 9-inch pan. Sprinkle with crumb topping. Bake at 350\\u00b0 for 35 to 40 minutes.\",\n          \"Mix in pan the sugar, cornstarch and salt. Stir milk in gradually. Cook, stirring constantly, until mixture boils. Remove from heat. Stir in vanilla.\"\n        ],\n        \"semantic_type\": \"\",\n        \"description\": \"\"\n      }\n    }\n  ]\n}"
            }
          },
          "metadata": {},
          "execution_count": 10
        }
      ]
    },
    {
      "cell_type": "code",
      "execution_count": 11,
      "metadata": {
        "id": "XNpXQeoRLghl",
        "outputId": "8025ff7c-04d7-4c01-ad95-8a7e513f6d1b",
        "colab": {
          "base_uri": "https://localhost:8080/",
          "height": 209
        }
      },
      "outputs": [
        {
          "output_type": "execute_result",
          "data": {
            "text/plain": [
              "title           0\n",
              "ingredients     0\n",
              "picture_link    0\n",
              "instructions    0\n",
              "dtype: int64"
            ],
            "text/html": [
              "<div>\n",
              "<style scoped>\n",
              "    .dataframe tbody tr th:only-of-type {\n",
              "        vertical-align: middle;\n",
              "    }\n",
              "\n",
              "    .dataframe tbody tr th {\n",
              "        vertical-align: top;\n",
              "    }\n",
              "\n",
              "    .dataframe thead th {\n",
              "        text-align: right;\n",
              "    }\n",
              "</style>\n",
              "<table border=\"1\" class=\"dataframe\">\n",
              "  <thead>\n",
              "    <tr style=\"text-align: right;\">\n",
              "      <th></th>\n",
              "      <th>0</th>\n",
              "    </tr>\n",
              "  </thead>\n",
              "  <tbody>\n",
              "    <tr>\n",
              "      <th>title</th>\n",
              "      <td>0</td>\n",
              "    </tr>\n",
              "    <tr>\n",
              "      <th>ingredients</th>\n",
              "      <td>0</td>\n",
              "    </tr>\n",
              "    <tr>\n",
              "      <th>picture_link</th>\n",
              "      <td>0</td>\n",
              "    </tr>\n",
              "    <tr>\n",
              "      <th>instructions</th>\n",
              "      <td>0</td>\n",
              "    </tr>\n",
              "  </tbody>\n",
              "</table>\n",
              "</div><br><label><b>dtype:</b> int64</label>"
            ]
          },
          "metadata": {},
          "execution_count": 11
        }
      ],
      "source": [
        "# Count of missing values by category\n",
        "recipes.isna().sum()"
      ]
    },
    {
      "cell_type": "code",
      "execution_count": 12,
      "metadata": {
        "id": "H_qeTm68Lghm",
        "outputId": "ff1014c1-1fb4-4a54-ba93-0e6c8e41c29a",
        "colab": {
          "base_uri": "https://localhost:8080/",
          "height": 209
        }
      },
      "outputs": [
        {
          "output_type": "execute_result",
          "data": {
            "text/plain": [
              "title           object\n",
              "ingredients     object\n",
              "picture_link    object\n",
              "instructions    object\n",
              "dtype: object"
            ],
            "text/html": [
              "<div>\n",
              "<style scoped>\n",
              "    .dataframe tbody tr th:only-of-type {\n",
              "        vertical-align: middle;\n",
              "    }\n",
              "\n",
              "    .dataframe tbody tr th {\n",
              "        vertical-align: top;\n",
              "    }\n",
              "\n",
              "    .dataframe thead th {\n",
              "        text-align: right;\n",
              "    }\n",
              "</style>\n",
              "<table border=\"1\" class=\"dataframe\">\n",
              "  <thead>\n",
              "    <tr style=\"text-align: right;\">\n",
              "      <th></th>\n",
              "      <th>0</th>\n",
              "    </tr>\n",
              "  </thead>\n",
              "  <tbody>\n",
              "    <tr>\n",
              "      <th>title</th>\n",
              "      <td>object</td>\n",
              "    </tr>\n",
              "    <tr>\n",
              "      <th>ingredients</th>\n",
              "      <td>object</td>\n",
              "    </tr>\n",
              "    <tr>\n",
              "      <th>picture_link</th>\n",
              "      <td>object</td>\n",
              "    </tr>\n",
              "    <tr>\n",
              "      <th>instructions</th>\n",
              "      <td>object</td>\n",
              "    </tr>\n",
              "  </tbody>\n",
              "</table>\n",
              "</div><br><label><b>dtype:</b> object</label>"
            ]
          },
          "metadata": {},
          "execution_count": 12
        }
      ],
      "source": [
        "recipes.dtypes"
      ]
    },
    {
      "cell_type": "code",
      "execution_count": 13,
      "metadata": {
        "id": "05MS2BHTLghn",
        "colab": {
          "base_uri": "https://localhost:8080/"
        },
        "outputId": "b1286fd8-cc68-4cd1-9e8b-0c9cdf6311c1"
      },
      "outputs": [
        {
          "output_type": "stream",
          "name": "stdout",
          "text": [
            "title              Blonde Brownies\n",
            "instructions    Mix; bake at 325°.\n",
            "Name: 2586, dtype: object\n",
            "title           Puffed Wheat Cake\n",
            "instructions      Cook 3 1/2 min.\n",
            "Name: 5505, dtype: object\n"
          ]
        }
      ],
      "source": [
        "# Recipe instructions with less than 20 characters are not good recipes\n",
        "empty_instr_ind = [index for i, index in zip(recipes['instructions'], recipes.index) if len(i) < 20]\n",
        "for i in empty_instr_ind:\n",
        "    print(recipes.loc[i, ['title', 'instructions']])\n",
        "recipes = recipes.drop(index = empty_instr_ind).reset_index(drop=True)"
      ]
    },
    {
      "cell_type": "code",
      "execution_count": 14,
      "metadata": {
        "id": "hPVgOYJYLghn",
        "outputId": "420fd786-c529-41b7-8d74-7213e5e09e4d",
        "colab": {
          "base_uri": "https://localhost:8080/"
        }
      },
      "outputs": [
        {
          "output_type": "execute_result",
          "data": {
            "text/plain": [
              "(9998, 4)"
            ]
          },
          "metadata": {},
          "execution_count": 14
        }
      ],
      "source": [
        "recipes.shape"
      ]
    },
    {
      "cell_type": "code",
      "execution_count": 15,
      "metadata": {
        "id": "OWees4wVLghn",
        "outputId": "ac3f720b-084a-4bda-e2ae-9853ef5bdaaa",
        "colab": {
          "base_uri": "https://localhost:8080/",
          "height": 209
        }
      },
      "outputs": [
        {
          "output_type": "execute_result",
          "data": {
            "text/plain": [
              "title           0\n",
              "ingredients     0\n",
              "picture_link    0\n",
              "instructions    0\n",
              "dtype: int64"
            ],
            "text/html": [
              "<div>\n",
              "<style scoped>\n",
              "    .dataframe tbody tr th:only-of-type {\n",
              "        vertical-align: middle;\n",
              "    }\n",
              "\n",
              "    .dataframe tbody tr th {\n",
              "        vertical-align: top;\n",
              "    }\n",
              "\n",
              "    .dataframe thead th {\n",
              "        text-align: right;\n",
              "    }\n",
              "</style>\n",
              "<table border=\"1\" class=\"dataframe\">\n",
              "  <thead>\n",
              "    <tr style=\"text-align: right;\">\n",
              "      <th></th>\n",
              "      <th>0</th>\n",
              "    </tr>\n",
              "  </thead>\n",
              "  <tbody>\n",
              "    <tr>\n",
              "      <th>title</th>\n",
              "      <td>0</td>\n",
              "    </tr>\n",
              "    <tr>\n",
              "      <th>ingredients</th>\n",
              "      <td>0</td>\n",
              "    </tr>\n",
              "    <tr>\n",
              "      <th>picture_link</th>\n",
              "      <td>0</td>\n",
              "    </tr>\n",
              "    <tr>\n",
              "      <th>instructions</th>\n",
              "      <td>0</td>\n",
              "    </tr>\n",
              "  </tbody>\n",
              "</table>\n",
              "</div><br><label><b>dtype:</b> int64</label>"
            ]
          },
          "metadata": {},
          "execution_count": 15
        }
      ],
      "source": [
        "recipes.isna().sum()"
      ]
    },
    {
      "cell_type": "code",
      "execution_count": 16,
      "metadata": {
        "id": "uqqPRXC3Lghn",
        "outputId": "7001d799-1b0f-4210-95ce-e4bc492047cc",
        "colab": {
          "base_uri": "https://localhost:8080/",
          "height": 84
        }
      },
      "outputs": [
        {
          "output_type": "execute_result",
          "data": {
            "text/plain": [
              "Series([], Name: ingredients, dtype: object)"
            ],
            "text/html": [
              "<div>\n",
              "<style scoped>\n",
              "    .dataframe tbody tr th:only-of-type {\n",
              "        vertical-align: middle;\n",
              "    }\n",
              "\n",
              "    .dataframe tbody tr th {\n",
              "        vertical-align: top;\n",
              "    }\n",
              "\n",
              "    .dataframe thead th {\n",
              "        text-align: right;\n",
              "    }\n",
              "</style>\n",
              "<table border=\"1\" class=\"dataframe\">\n",
              "  <thead>\n",
              "    <tr style=\"text-align: right;\">\n",
              "      <th></th>\n",
              "      <th>ingredients</th>\n",
              "    </tr>\n",
              "  </thead>\n",
              "  <tbody>\n",
              "  </tbody>\n",
              "</table>\n",
              "</div><br><label><b>dtype:</b> object</label>"
            ]
          },
          "metadata": {},
          "execution_count": 16
        }
      ],
      "source": [
        "# Checking for low ingredient recipes.\n",
        "#low_ingr_ind = [index for i, index in zip(recipes['ingredients'], recipes.index) if len(i) < 20]\n",
        "low_ingr_index = [index for i, index in zip(recipes['ingredients'], recipes.index) if i[0] == np.nan]\n",
        "len(low_ingr_index)\n",
        "recipes.loc[low_ingr_index, 'ingredients']"
      ]
    },
    {
      "cell_type": "markdown",
      "metadata": {
        "id": "akPmKGlKLghn"
      },
      "source": [
        "### Cleaning to Prepare for Tokenizing"
      ]
    },
    {
      "cell_type": "code",
      "execution_count": 17,
      "metadata": {
        "id": "78bEBfpALghn"
      },
      "outputs": [],
      "source": [
        "# Removing ADVERTISEMENT text from ingredients list\n",
        "ingredients = []\n",
        "for ing_list in recipes['ingredients']:\n",
        "    clean_ings = [ing.replace('ADVERTISEMENT','').strip() for ing in ast.literal_eval(ing_list)]\n",
        "    if '' in clean_ings:\n",
        "        clean_ings.remove('')\n",
        "    ingredients.append(clean_ings)\n",
        "recipes['ingredients'] = ingredients"
      ]
    },
    {
      "cell_type": "code",
      "execution_count": 18,
      "metadata": {
        "id": "ANe0Js00Lgho",
        "outputId": "bcae2936-b360-4673-f4f7-028c66cb28e6",
        "colab": {
          "base_uri": "https://localhost:8080/"
        }
      },
      "outputs": [
        {
          "output_type": "execute_result",
          "data": {
            "text/plain": [
              "['1 c. firmly packed brown sugar',\n",
              " '1/2 c. evaporated milk',\n",
              " '1/2 tsp. vanilla',\n",
              " '1/2 c. broken nuts (pecans)',\n",
              " '2 Tbsp. butter or margarine',\n",
              " '3 1/2 c. bite size shredded rice biscuits']"
            ]
          },
          "metadata": {},
          "execution_count": 18
        }
      ],
      "source": [
        "recipes.loc[0,'ingredients']"
      ]
    },
    {
      "cell_type": "code",
      "execution_count": 19,
      "metadata": {
        "id": "odXfbJtQLgho",
        "outputId": "a29d3f77-2cd3-42bc-e067-911c99eb9834",
        "colab": {
          "base_uri": "https://localhost:8080/",
          "height": 241
        }
      },
      "outputs": [
        {
          "output_type": "execute_result",
          "data": {
            "text/plain": [
              "0    1 c. firmly packed brown sugar; 1/2 c. evapora...\n",
              "1    1 small jar chipped beef, cut up; 4 boned chic...\n",
              "2    2 (16 oz.) pkg. frozen corn; 1 (8 oz.) pkg. cr...\n",
              "3    1 large whole chicken; 2 (10 1/2 oz.) cans chi...\n",
              "4    1 c. peanut butter; 3/4 c. graham cracker crum...\n",
              "Name: ingredient_text, dtype: object"
            ],
            "text/html": [
              "<div>\n",
              "<style scoped>\n",
              "    .dataframe tbody tr th:only-of-type {\n",
              "        vertical-align: middle;\n",
              "    }\n",
              "\n",
              "    .dataframe tbody tr th {\n",
              "        vertical-align: top;\n",
              "    }\n",
              "\n",
              "    .dataframe thead th {\n",
              "        text-align: right;\n",
              "    }\n",
              "</style>\n",
              "<table border=\"1\" class=\"dataframe\">\n",
              "  <thead>\n",
              "    <tr style=\"text-align: right;\">\n",
              "      <th></th>\n",
              "      <th>ingredient_text</th>\n",
              "    </tr>\n",
              "  </thead>\n",
              "  <tbody>\n",
              "    <tr>\n",
              "      <th>0</th>\n",
              "      <td>1 c. firmly packed brown sugar; 1/2 c. evapora...</td>\n",
              "    </tr>\n",
              "    <tr>\n",
              "      <th>1</th>\n",
              "      <td>1 small jar chipped beef, cut up; 4 boned chic...</td>\n",
              "    </tr>\n",
              "    <tr>\n",
              "      <th>2</th>\n",
              "      <td>2 (16 oz.) pkg. frozen corn; 1 (8 oz.) pkg. cr...</td>\n",
              "    </tr>\n",
              "    <tr>\n",
              "      <th>3</th>\n",
              "      <td>1 large whole chicken; 2 (10 1/2 oz.) cans chi...</td>\n",
              "    </tr>\n",
              "    <tr>\n",
              "      <th>4</th>\n",
              "      <td>1 c. peanut butter; 3/4 c. graham cracker crum...</td>\n",
              "    </tr>\n",
              "  </tbody>\n",
              "</table>\n",
              "</div><br><label><b>dtype:</b> object</label>"
            ]
          },
          "metadata": {},
          "execution_count": 19
        }
      ],
      "source": [
        "# Extracting ingredients from their lists and formatting as single strings\n",
        "recipes['ingredient_text'] = ['; '.join(ingredients) for ingredients in recipes['ingredients']]\n",
        "recipes['ingredient_text'].head()"
      ]
    },
    {
      "cell_type": "code",
      "execution_count": 20,
      "metadata": {
        "id": "7AYUi0hvLgho"
      },
      "outputs": [],
      "source": [
        "# Counting the number of ingredients used in each recipe\n",
        "recipes['ingredient_count'] = [len(ingredients) for ingredients in recipes['ingredients']]"
      ]
    },
    {
      "cell_type": "code",
      "execution_count": 21,
      "metadata": {
        "id": "4PWXGXMVLgho",
        "outputId": "120cce8b-83aa-47ce-caf9-21b3e9d82ea8",
        "colab": {
          "base_uri": "https://localhost:8080/",
          "height": 293
        }
      },
      "outputs": [
        {
          "output_type": "execute_result",
          "data": {
            "text/plain": [
              "                   title                                        ingredients  \\\n",
              "0    No-Bake Nut Cookies  [1 c. firmly packed brown sugar, 1/2 c. evapor...   \n",
              "1  Jewell Ball'S Chicken  [1 small jar chipped beef, cut up, 4 boned chi...   \n",
              "2            Creamy Corn  [2 (16 oz.) pkg. frozen corn, 1 (8 oz.) pkg. c...   \n",
              "3          Chicken Funny  [1 large whole chicken, 2 (10 1/2 oz.) cans ch...   \n",
              "4   Reeses Cups(Candy)    [1 c. peanut butter, 3/4 c. graham cracker cru...   \n",
              "\n",
              "                                      picture_link  \\\n",
              "0   www.cookbooks.com/Recipe-Details.aspx?id=44874   \n",
              "1  www.cookbooks.com/Recipe-Details.aspx?id=699419   \n",
              "2   www.cookbooks.com/Recipe-Details.aspx?id=10570   \n",
              "3  www.cookbooks.com/Recipe-Details.aspx?id=897570   \n",
              "4  www.cookbooks.com/Recipe-Details.aspx?id=659239   \n",
              "\n",
              "                                        instructions  \\\n",
              "0  In a heavy 2-quart saucepan, mix brown sugar, ...   \n",
              "1  Place chipped beef on bottom of baking dish. P...   \n",
              "2  In a slow cooker, combine all ingredients. Cov...   \n",
              "3  Boil and debone chicken. Put bite size pieces ...   \n",
              "4  Combine first four ingredients and press in 13...   \n",
              "\n",
              "                                     ingredient_text  ingredient_count  \n",
              "0  1 c. firmly packed brown sugar; 1/2 c. evapora...                 6  \n",
              "1  1 small jar chipped beef, cut up; 4 boned chic...                 4  \n",
              "2  2 (16 oz.) pkg. frozen corn; 1 (8 oz.) pkg. cr...                 6  \n",
              "3  1 large whole chicken; 2 (10 1/2 oz.) cans chi...                 5  \n",
              "4  1 c. peanut butter; 3/4 c. graham cracker crum...                 5  "
            ],
            "text/html": [
              "\n",
              "  <div id=\"df-5f143893-f983-4af2-9770-03cb054a516a\" class=\"colab-df-container\">\n",
              "    <div>\n",
              "<style scoped>\n",
              "    .dataframe tbody tr th:only-of-type {\n",
              "        vertical-align: middle;\n",
              "    }\n",
              "\n",
              "    .dataframe tbody tr th {\n",
              "        vertical-align: top;\n",
              "    }\n",
              "\n",
              "    .dataframe thead th {\n",
              "        text-align: right;\n",
              "    }\n",
              "</style>\n",
              "<table border=\"1\" class=\"dataframe\">\n",
              "  <thead>\n",
              "    <tr style=\"text-align: right;\">\n",
              "      <th></th>\n",
              "      <th>title</th>\n",
              "      <th>ingredients</th>\n",
              "      <th>picture_link</th>\n",
              "      <th>instructions</th>\n",
              "      <th>ingredient_text</th>\n",
              "      <th>ingredient_count</th>\n",
              "    </tr>\n",
              "  </thead>\n",
              "  <tbody>\n",
              "    <tr>\n",
              "      <th>0</th>\n",
              "      <td>No-Bake Nut Cookies</td>\n",
              "      <td>[1 c. firmly packed brown sugar, 1/2 c. evapor...</td>\n",
              "      <td>www.cookbooks.com/Recipe-Details.aspx?id=44874</td>\n",
              "      <td>In a heavy 2-quart saucepan, mix brown sugar, ...</td>\n",
              "      <td>1 c. firmly packed brown sugar; 1/2 c. evapora...</td>\n",
              "      <td>6</td>\n",
              "    </tr>\n",
              "    <tr>\n",
              "      <th>1</th>\n",
              "      <td>Jewell Ball'S Chicken</td>\n",
              "      <td>[1 small jar chipped beef, cut up, 4 boned chi...</td>\n",
              "      <td>www.cookbooks.com/Recipe-Details.aspx?id=699419</td>\n",
              "      <td>Place chipped beef on bottom of baking dish. P...</td>\n",
              "      <td>1 small jar chipped beef, cut up; 4 boned chic...</td>\n",
              "      <td>4</td>\n",
              "    </tr>\n",
              "    <tr>\n",
              "      <th>2</th>\n",
              "      <td>Creamy Corn</td>\n",
              "      <td>[2 (16 oz.) pkg. frozen corn, 1 (8 oz.) pkg. c...</td>\n",
              "      <td>www.cookbooks.com/Recipe-Details.aspx?id=10570</td>\n",
              "      <td>In a slow cooker, combine all ingredients. Cov...</td>\n",
              "      <td>2 (16 oz.) pkg. frozen corn; 1 (8 oz.) pkg. cr...</td>\n",
              "      <td>6</td>\n",
              "    </tr>\n",
              "    <tr>\n",
              "      <th>3</th>\n",
              "      <td>Chicken Funny</td>\n",
              "      <td>[1 large whole chicken, 2 (10 1/2 oz.) cans ch...</td>\n",
              "      <td>www.cookbooks.com/Recipe-Details.aspx?id=897570</td>\n",
              "      <td>Boil and debone chicken. Put bite size pieces ...</td>\n",
              "      <td>1 large whole chicken; 2 (10 1/2 oz.) cans chi...</td>\n",
              "      <td>5</td>\n",
              "    </tr>\n",
              "    <tr>\n",
              "      <th>4</th>\n",
              "      <td>Reeses Cups(Candy)</td>\n",
              "      <td>[1 c. peanut butter, 3/4 c. graham cracker cru...</td>\n",
              "      <td>www.cookbooks.com/Recipe-Details.aspx?id=659239</td>\n",
              "      <td>Combine first four ingredients and press in 13...</td>\n",
              "      <td>1 c. peanut butter; 3/4 c. graham cracker crum...</td>\n",
              "      <td>5</td>\n",
              "    </tr>\n",
              "  </tbody>\n",
              "</table>\n",
              "</div>\n",
              "    <div class=\"colab-df-buttons\">\n",
              "\n",
              "  <div class=\"colab-df-container\">\n",
              "    <button class=\"colab-df-convert\" onclick=\"convertToInteractive('df-5f143893-f983-4af2-9770-03cb054a516a')\"\n",
              "            title=\"Convert this dataframe to an interactive table.\"\n",
              "            style=\"display:none;\">\n",
              "\n",
              "  <svg xmlns=\"http://www.w3.org/2000/svg\" height=\"24px\" viewBox=\"0 -960 960 960\">\n",
              "    <path d=\"M120-120v-720h720v720H120Zm60-500h600v-160H180v160Zm220 220h160v-160H400v160Zm0 220h160v-160H400v160ZM180-400h160v-160H180v160Zm440 0h160v-160H620v160ZM180-180h160v-160H180v160Zm440 0h160v-160H620v160Z\"/>\n",
              "  </svg>\n",
              "    </button>\n",
              "\n",
              "  <style>\n",
              "    .colab-df-container {\n",
              "      display:flex;\n",
              "      gap: 12px;\n",
              "    }\n",
              "\n",
              "    .colab-df-convert {\n",
              "      background-color: #E8F0FE;\n",
              "      border: none;\n",
              "      border-radius: 50%;\n",
              "      cursor: pointer;\n",
              "      display: none;\n",
              "      fill: #1967D2;\n",
              "      height: 32px;\n",
              "      padding: 0 0 0 0;\n",
              "      width: 32px;\n",
              "    }\n",
              "\n",
              "    .colab-df-convert:hover {\n",
              "      background-color: #E2EBFA;\n",
              "      box-shadow: 0px 1px 2px rgba(60, 64, 67, 0.3), 0px 1px 3px 1px rgba(60, 64, 67, 0.15);\n",
              "      fill: #174EA6;\n",
              "    }\n",
              "\n",
              "    .colab-df-buttons div {\n",
              "      margin-bottom: 4px;\n",
              "    }\n",
              "\n",
              "    [theme=dark] .colab-df-convert {\n",
              "      background-color: #3B4455;\n",
              "      fill: #D2E3FC;\n",
              "    }\n",
              "\n",
              "    [theme=dark] .colab-df-convert:hover {\n",
              "      background-color: #434B5C;\n",
              "      box-shadow: 0px 1px 3px 1px rgba(0, 0, 0, 0.15);\n",
              "      filter: drop-shadow(0px 1px 2px rgba(0, 0, 0, 0.3));\n",
              "      fill: #FFFFFF;\n",
              "    }\n",
              "  </style>\n",
              "\n",
              "    <script>\n",
              "      const buttonEl =\n",
              "        document.querySelector('#df-5f143893-f983-4af2-9770-03cb054a516a button.colab-df-convert');\n",
              "      buttonEl.style.display =\n",
              "        google.colab.kernel.accessAllowed ? 'block' : 'none';\n",
              "\n",
              "      async function convertToInteractive(key) {\n",
              "        const element = document.querySelector('#df-5f143893-f983-4af2-9770-03cb054a516a');\n",
              "        const dataTable =\n",
              "          await google.colab.kernel.invokeFunction('convertToInteractive',\n",
              "                                                    [key], {});\n",
              "        if (!dataTable) return;\n",
              "\n",
              "        const docLinkHtml = 'Like what you see? Visit the ' +\n",
              "          '<a target=\"_blank\" href=https://colab.research.google.com/notebooks/data_table.ipynb>data table notebook</a>'\n",
              "          + ' to learn more about interactive tables.';\n",
              "        element.innerHTML = '';\n",
              "        dataTable['output_type'] = 'display_data';\n",
              "        await google.colab.output.renderOutput(dataTable, element);\n",
              "        const docLink = document.createElement('div');\n",
              "        docLink.innerHTML = docLinkHtml;\n",
              "        element.appendChild(docLink);\n",
              "      }\n",
              "    </script>\n",
              "  </div>\n",
              "\n",
              "\n",
              "<div id=\"df-3e430890-ee29-4402-95aa-c01ef1009f09\">\n",
              "  <button class=\"colab-df-quickchart\" onclick=\"quickchart('df-3e430890-ee29-4402-95aa-c01ef1009f09')\"\n",
              "            title=\"Suggest charts\"\n",
              "            style=\"display:none;\">\n",
              "\n",
              "<svg xmlns=\"http://www.w3.org/2000/svg\" height=\"24px\"viewBox=\"0 0 24 24\"\n",
              "     width=\"24px\">\n",
              "    <g>\n",
              "        <path d=\"M19 3H5c-1.1 0-2 .9-2 2v14c0 1.1.9 2 2 2h14c1.1 0 2-.9 2-2V5c0-1.1-.9-2-2-2zM9 17H7v-7h2v7zm4 0h-2V7h2v10zm4 0h-2v-4h2v4z\"/>\n",
              "    </g>\n",
              "</svg>\n",
              "  </button>\n",
              "\n",
              "<style>\n",
              "  .colab-df-quickchart {\n",
              "      --bg-color: #E8F0FE;\n",
              "      --fill-color: #1967D2;\n",
              "      --hover-bg-color: #E2EBFA;\n",
              "      --hover-fill-color: #174EA6;\n",
              "      --disabled-fill-color: #AAA;\n",
              "      --disabled-bg-color: #DDD;\n",
              "  }\n",
              "\n",
              "  [theme=dark] .colab-df-quickchart {\n",
              "      --bg-color: #3B4455;\n",
              "      --fill-color: #D2E3FC;\n",
              "      --hover-bg-color: #434B5C;\n",
              "      --hover-fill-color: #FFFFFF;\n",
              "      --disabled-bg-color: #3B4455;\n",
              "      --disabled-fill-color: #666;\n",
              "  }\n",
              "\n",
              "  .colab-df-quickchart {\n",
              "    background-color: var(--bg-color);\n",
              "    border: none;\n",
              "    border-radius: 50%;\n",
              "    cursor: pointer;\n",
              "    display: none;\n",
              "    fill: var(--fill-color);\n",
              "    height: 32px;\n",
              "    padding: 0;\n",
              "    width: 32px;\n",
              "  }\n",
              "\n",
              "  .colab-df-quickchart:hover {\n",
              "    background-color: var(--hover-bg-color);\n",
              "    box-shadow: 0 1px 2px rgba(60, 64, 67, 0.3), 0 1px 3px 1px rgba(60, 64, 67, 0.15);\n",
              "    fill: var(--button-hover-fill-color);\n",
              "  }\n",
              "\n",
              "  .colab-df-quickchart-complete:disabled,\n",
              "  .colab-df-quickchart-complete:disabled:hover {\n",
              "    background-color: var(--disabled-bg-color);\n",
              "    fill: var(--disabled-fill-color);\n",
              "    box-shadow: none;\n",
              "  }\n",
              "\n",
              "  .colab-df-spinner {\n",
              "    border: 2px solid var(--fill-color);\n",
              "    border-color: transparent;\n",
              "    border-bottom-color: var(--fill-color);\n",
              "    animation:\n",
              "      spin 1s steps(1) infinite;\n",
              "  }\n",
              "\n",
              "  @keyframes spin {\n",
              "    0% {\n",
              "      border-color: transparent;\n",
              "      border-bottom-color: var(--fill-color);\n",
              "      border-left-color: var(--fill-color);\n",
              "    }\n",
              "    20% {\n",
              "      border-color: transparent;\n",
              "      border-left-color: var(--fill-color);\n",
              "      border-top-color: var(--fill-color);\n",
              "    }\n",
              "    30% {\n",
              "      border-color: transparent;\n",
              "      border-left-color: var(--fill-color);\n",
              "      border-top-color: var(--fill-color);\n",
              "      border-right-color: var(--fill-color);\n",
              "    }\n",
              "    40% {\n",
              "      border-color: transparent;\n",
              "      border-right-color: var(--fill-color);\n",
              "      border-top-color: var(--fill-color);\n",
              "    }\n",
              "    60% {\n",
              "      border-color: transparent;\n",
              "      border-right-color: var(--fill-color);\n",
              "    }\n",
              "    80% {\n",
              "      border-color: transparent;\n",
              "      border-right-color: var(--fill-color);\n",
              "      border-bottom-color: var(--fill-color);\n",
              "    }\n",
              "    90% {\n",
              "      border-color: transparent;\n",
              "      border-bottom-color: var(--fill-color);\n",
              "    }\n",
              "  }\n",
              "</style>\n",
              "\n",
              "  <script>\n",
              "    async function quickchart(key) {\n",
              "      const quickchartButtonEl =\n",
              "        document.querySelector('#' + key + ' button');\n",
              "      quickchartButtonEl.disabled = true;  // To prevent multiple clicks.\n",
              "      quickchartButtonEl.classList.add('colab-df-spinner');\n",
              "      try {\n",
              "        const charts = await google.colab.kernel.invokeFunction(\n",
              "            'suggestCharts', [key], {});\n",
              "      } catch (error) {\n",
              "        console.error('Error during call to suggestCharts:', error);\n",
              "      }\n",
              "      quickchartButtonEl.classList.remove('colab-df-spinner');\n",
              "      quickchartButtonEl.classList.add('colab-df-quickchart-complete');\n",
              "    }\n",
              "    (() => {\n",
              "      let quickchartButtonEl =\n",
              "        document.querySelector('#df-3e430890-ee29-4402-95aa-c01ef1009f09 button');\n",
              "      quickchartButtonEl.style.display =\n",
              "        google.colab.kernel.accessAllowed ? 'block' : 'none';\n",
              "    })();\n",
              "  </script>\n",
              "</div>\n",
              "\n",
              "    </div>\n",
              "  </div>\n"
            ],
            "application/vnd.google.colaboratory.intrinsic+json": {
              "type": "dataframe",
              "variable_name": "recipes",
              "summary": "{\n  \"name\": \"recipes\",\n  \"rows\": 9998,\n  \"fields\": [\n    {\n      \"column\": \"title\",\n      \"properties\": {\n        \"dtype\": \"string\",\n        \"num_unique_values\": 7193,\n        \"samples\": [\n          \"Strawberry Shake\",\n          \"Pumpkin Chiffon Cake\",\n          \"Jalapeno Cornbread\"\n        ],\n        \"semantic_type\": \"\",\n        \"description\": \"\"\n      }\n    },\n    {\n      \"column\": \"ingredients\",\n      \"properties\": {\n        \"dtype\": \"object\",\n        \"semantic_type\": \"\",\n        \"description\": \"\"\n      }\n    },\n    {\n      \"column\": \"picture_link\",\n      \"properties\": {\n        \"dtype\": \"string\",\n        \"num_unique_values\": 9998,\n        \"samples\": [\n          \"www.cookbooks.com/Recipe-Details.aspx?id=405222\",\n          \"www.cookbooks.com/Recipe-Details.aspx?id=671159\",\n          \"www.cookbooks.com/Recipe-Details.aspx?id=1018986\"\n        ],\n        \"semantic_type\": \"\",\n        \"description\": \"\"\n      }\n    },\n    {\n      \"column\": \"instructions\",\n      \"properties\": {\n        \"dtype\": \"string\",\n        \"num_unique_values\": 9987,\n        \"samples\": [\n          \"Mix flour, salt and pepper in bowl. Coat chicken in flour mixture and cook in oil until brown. Remove drippings from pan. Return chicken to pan. In a bowl mix peach preserves, barbecue sauce, soy sauce and onion; mix well. Cover chicken with sauce and bring to a boil. Reduce heat to low and cook 40 minutes. Add water chestnuts, green pepper slices and carrot slices. Cook an additional 10 minutes. Serve over rice.\",\n          \"Cream the margarine, cream cheese and sugar. Add eggs and vanilla; beat well. Sift together the flour, baking powder, baking soda and salt. Add alternately with milk, mixing well after each addition. Pour into a greased and floured 13 x 9-inch pan. Sprinkle with crumb topping. Bake at 350\\u00b0 for 35 to 40 minutes.\",\n          \"Combine all ingredients in a 4 quart Dutch oven; bring to boil. Reduce heat; cover and simmer 1 to 1 1/2 hours or until peas are tender (add more water as needed). Remove ham hock and take meat from bones. Add to peas. Yields 6 to 8 servings.\"\n        ],\n        \"semantic_type\": \"\",\n        \"description\": \"\"\n      }\n    },\n    {\n      \"column\": \"ingredient_text\",\n      \"properties\": {\n        \"dtype\": \"string\",\n        \"num_unique_values\": 9997,\n        \"samples\": [\n          \"1/2 c. fresh lemon juice; 1/4 c. sugar; 6 whole cloves; 1 1/2 c. chilled tonic water; ice cubes; lemon slices and mint leaves\",\n          \"2 lb. carrots; 10 3/4 oz. can tomato soup; 1/2 c. salad oil; 3/4 c. sugar; 1/3 c. vinegar; 1 tsp. Worcestershire sauce; 1 tsp. prepared mustard; 1 small green pepper, chopped\",\n          \"4 (6 oz.) boneless, skinned chicken breasts; 3 Tbsp. flour; 1 Tbsp. curry powder; 4 Tbsp. oil; 1 Tbsp. sugar; 2 chicken bouillon cubes; 1 c. water; 16 oz. can apricots; 1/2 c. chopped onion; 1 c. sliced mushrooms; 2 Tbsp. soy sauce; 2 Tbsp. lemon juice\"\n        ],\n        \"semantic_type\": \"\",\n        \"description\": \"\"\n      }\n    },\n    {\n      \"column\": \"ingredient_count\",\n      \"properties\": {\n        \"dtype\": \"number\",\n        \"std\": 2,\n        \"min\": 1,\n        \"max\": 45,\n        \"num_unique_values\": 28,\n        \"samples\": [\n          13,\n          27,\n          9\n        ],\n        \"semantic_type\": \"\",\n        \"description\": \"\"\n      }\n    }\n  ]\n}"
            }
          },
          "metadata": {},
          "execution_count": 21
        }
      ],
      "source": [
        "recipes.head()"
      ]
    },
    {
      "cell_type": "code",
      "execution_count": 22,
      "metadata": {
        "id": "aCH8XxDLLgho",
        "outputId": "affb763f-9496-4432-e7ed-6fa02fb646fa",
        "colab": {
          "base_uri": "https://localhost:8080/",
          "height": 87
        }
      },
      "outputs": [
        {
          "output_type": "execute_result",
          "data": {
            "text/plain": [
              "'No-Bake Nut Cookies 1 c. firmly packed brown sugar; 1/2 c. evaporated milk; 1/2 tsp. vanilla; 1/2 c. broken nuts (pecans); 2 Tbsp. butter or margarine; 3 1/2 c. bite size shredded rice biscuits In a heavy 2-quart saucepan, mix brown sugar, nuts, evaporated milk and butter or margarine. Stir over medium heat until mixture bubbles all over top. Boil and stir 5 minutes more. Take off heat. Stir in vanilla and cereal; mix well. Using 2 teaspoons, drop and shape into 30 clusters on wax paper. Let stand until firm, about 30 minutes.'"
            ],
            "application/vnd.google.colaboratory.intrinsic+json": {
              "type": "string"
            }
          },
          "metadata": {},
          "execution_count": 22
        }
      ],
      "source": [
        "all_text = recipes['title'] + ' ' + recipes['ingredient_text'] + ' ' + recipes['instructions']\n",
        "all_text[0]"
      ]
    },
    {
      "cell_type": "code",
      "execution_count": 23,
      "metadata": {
        "id": "qLP1TK1xLgho"
      },
      "outputs": [],
      "source": [
        "# Clean_text Function\n",
        "import string\n",
        "import re\n",
        "\n",
        "def clean_text(documents):\n",
        "    cleaned_text = []\n",
        "    for doc in documents:\n",
        "        doc = doc.translate(str.maketrans('', '', string.punctuation)) # Remove Punctuation\n",
        "        doc = re.sub(r'\\d+', '', doc) # Remove Digits\n",
        "        doc = doc.replace('\\n',' ') # Remove New Lines\n",
        "        doc = doc.strip() # Remove Leading White Space\n",
        "        doc = re.sub(' +', ' ', doc) # Remove multiple white spaces\n",
        "        cleaned_text.append(doc)\n",
        "    return cleaned_text\n",
        "\n",
        "# Cleaning Text\n",
        "cleaned_text = clean_text(all_text)"
      ]
    },
    {
      "cell_type": "code",
      "execution_count": 24,
      "metadata": {
        "id": "66RTpW6ULgho",
        "outputId": "df03f682-1660-4e77-913f-73eb7935e472",
        "colab": {
          "base_uri": "https://localhost:8080/",
          "height": 70
        }
      },
      "outputs": [
        {
          "output_type": "execute_result",
          "data": {
            "text/plain": [
              "'NoBake Nut Cookies c firmly packed brown sugar c evaporated milk tsp vanilla c broken nuts pecans Tbsp butter or margarine c bite size shredded rice biscuits In a heavy quart saucepan mix brown sugar nuts evaporated milk and butter or margarine Stir over medium heat until mixture bubbles all over top Boil and stir minutes more Take off heat Stir in vanilla and cereal mix well Using teaspoons drop and shape into clusters on wax paper Let stand until firm about minutes'"
            ],
            "application/vnd.google.colaboratory.intrinsic+json": {
              "type": "string"
            }
          },
          "metadata": {},
          "execution_count": 24
        }
      ],
      "source": [
        "cleaned_text[0]"
      ]
    },
    {
      "cell_type": "markdown",
      "metadata": {
        "id": "ZScPumahLgho"
      },
      "source": [
        "### Tokenizing Using Spacy"
      ]
    },
    {
      "cell_type": "code",
      "execution_count": 25,
      "metadata": {
        "id": "t3X-QaiSLghp",
        "outputId": "d55e0894-1c16-4a4a-a65a-e0a4c587f8f7",
        "colab": {
          "base_uri": "https://localhost:8080/",
          "height": 70
        }
      },
      "outputs": [
        {
          "output_type": "execute_result",
          "data": {
            "text/plain": [
              "'nobake Nut Cookies c firmly pack brown sugar c evaporate milk tsp vanilla c broken nuts pecans Tbsp butter margarine c bite size shred rice biscuit heavy quart saucepan mix brown sugar nuts evaporate milk butter margarine Stir medium heat mixture bubble Boil stir minute heat Stir vanilla cereal mix teaspoon drop shape cluster wax paper let stand firm minute'"
            ],
            "application/vnd.google.colaboratory.intrinsic+json": {
              "type": "string"
            }
          },
          "metadata": {},
          "execution_count": 25
        }
      ],
      "source": [
        "# Testing Strategies and Code\n",
        "nlp = spacy.load('en_core_web_sm')\n",
        "\n",
        "' '.join([token.lemma_ for token in nlp(cleaned_text[0]) if not token.is_stop])"
      ]
    },
    {
      "cell_type": "code",
      "execution_count": 26,
      "metadata": {
        "id": "A-qeQmA8Lghp"
      },
      "outputs": [],
      "source": [
        "# Tokenizing Function that lemmatizes words and removes Stop Words\n",
        "def text_tokenizer(documents):\n",
        "    tokenized_documents = []\n",
        "    for doc in documents:\n",
        "        tok_doc = ' '.join([token.lemma_ for token in nlp(doc) if not token.is_stop])\n",
        "        tokenized_documents.append(tok_doc)\n",
        "    return tokenized_documents"
      ]
    },
    {
      "cell_type": "code",
      "execution_count": 27,
      "metadata": {
        "id": "pc3AzgkmLghp"
      },
      "outputs": [],
      "source": [
        "# Tokenizing Function to run in parallel\n",
        "def text_tokenizer_mp(doc):\n",
        "    tok_doc = ' '.join([token.lemma_ for token in nlp(doc) if not token.is_stop])\n",
        "    return tok_doc"
      ]
    },
    {
      "cell_type": "code",
      "execution_count": 28,
      "metadata": {
        "id": "kzlqzoI7Lghp",
        "outputId": "8325c9f3-c944-41c7-bee6-39a3de39595b",
        "colab": {
          "base_uri": "https://localhost:8080/"
        }
      },
      "outputs": [
        {
          "output_type": "stream",
          "name": "stdout",
          "text": [
            "Number of processors:  2\n"
          ]
        }
      ],
      "source": [
        "import multiprocessing as mp\n",
        "print(\"Number of processors: \", mp.cpu_count())"
      ]
    },
    {
      "cell_type": "code",
      "execution_count": 29,
      "metadata": {
        "id": "ZwsFeDocLghp"
      },
      "outputs": [],
      "source": [
        "# Parallelzing tokenizing process\n",
        "pool = mp.Pool(mp.cpu_count())\n",
        "tokenized_text = pool.map(text_tokenizer_mp, [doc for doc in cleaned_text])"
      ]
    },
    {
      "cell_type": "code",
      "execution_count": 30,
      "metadata": {
        "id": "xN4Gi3ngLghp"
      },
      "outputs": [],
      "source": [
        "# Save the tokenized_text variable as a csv in order to return to it;\n",
        "# Do not attempt to run the parser above, it will simply take too long\n",
        "# Reload the csv from file insted\n",
        "pd.Series(tokenized_text).to_csv('tokenized_text.csv')"
      ]
    },
    {
      "cell_type": "code",
      "execution_count": 31,
      "metadata": {
        "id": "D21-qOdPLghv",
        "outputId": "8e6dd4ec-f4de-4a09-9c83-113e50d1611d",
        "colab": {
          "base_uri": "https://localhost:8080/",
          "height": 70
        }
      },
      "outputs": [
        {
          "output_type": "execute_result",
          "data": {
            "text/plain": [
              "'nobake Nut Cookies c firmly pack brown sugar c evaporate milk tsp vanilla c broken nuts pecans Tbsp butter margarine c bite size shred rice biscuit heavy quart saucepan mix brown sugar nuts evaporate milk butter margarine Stir medium heat mixture bubble Boil stir minute heat Stir vanilla cereal mix teaspoon drop shape cluster wax paper let stand firm minute'"
            ],
            "application/vnd.google.colaboratory.intrinsic+json": {
              "type": "string"
            }
          },
          "metadata": {},
          "execution_count": 31
        }
      ],
      "source": [
        "tokenized_text[0]"
      ]
    },
    {
      "cell_type": "markdown",
      "metadata": {
        "id": "dzvlrTFbLghv"
      },
      "source": [
        "### Creating Word Embeddings"
      ]
    },
    {
      "cell_type": "code",
      "execution_count": 32,
      "metadata": {
        "id": "8rEfCLmPLghv",
        "outputId": "a0b65c05-ebb1-4d79-87b1-7cba25b62337",
        "colab": {
          "base_uri": "https://localhost:8080/"
        }
      },
      "outputs": [
        {
          "output_type": "stream",
          "name": "stdout",
          "text": [
            "(9998, 6520)\n",
            "6520\n"
          ]
        }
      ],
      "source": [
        "from sklearn.feature_extraction.text import TfidfVectorizer\n",
        "\n",
        "vectorizer = TfidfVectorizer(lowercase = True,\n",
        "                            ngram_range = (1,1))\n",
        "\n",
        "text_tfidf = vectorizer.fit_transform(tokenized_text)\n",
        "tfidf_words = vectorizer.get_feature_names_out()\n",
        "print(text_tfidf.shape)\n",
        "print(len(tfidf_words))"
      ]
    },
    {
      "cell_type": "markdown",
      "metadata": {
        "id": "X3uargKaLghv"
      },
      "source": [
        "## Topic Modeling"
      ]
    },
    {
      "cell_type": "code",
      "execution_count": 33,
      "metadata": {
        "id": "gth1njXQLghw",
        "outputId": "7911c53b-0ad1-4de9-8b66-c9a2ce5ccdcc",
        "colab": {
          "base_uri": "https://localhost:8080/"
        }
      },
      "outputs": [
        {
          "output_type": "execute_result",
          "data": {
            "text/plain": [
              "(9998, 6520)"
            ]
          },
          "metadata": {},
          "execution_count": 33
        }
      ],
      "source": [
        "text_tfidf.shape"
      ]
    },
    {
      "cell_type": "code",
      "execution_count": 34,
      "metadata": {
        "id": "f-73onJvLghw",
        "outputId": "c6a94c88-6a19-4909-c08c-d8cade1b197c",
        "colab": {
          "base_uri": "https://localhost:8080/"
        }
      },
      "outputs": [
        {
          "output_type": "execute_result",
          "data": {
            "text/plain": [
              "(9998, 50)"
            ]
          },
          "metadata": {},
          "execution_count": 34
        }
      ],
      "source": [
        "from sklearn.decomposition import LatentDirichletAllocation as LDA\n",
        "\n",
        "lda = LDA(n_components = 50,\n",
        "          n_jobs = -1,\n",
        "          max_iter = 100)\n",
        "text_lda = lda.fit_transform(text_tfidf)\n",
        "text_lda.shape"
      ]
    },
    {
      "cell_type": "code",
      "execution_count": 35,
      "metadata": {
        "id": "v0EWYGPLLghw",
        "outputId": "45404b4a-c090-47dd-f75e-f1f59e90e9d4",
        "colab": {
          "base_uri": "https://localhost:8080/"
        }
      },
      "outputs": [
        {
          "output_type": "execute_result",
          "data": {
            "text/plain": [
              "(9998, 50)"
            ]
          },
          "metadata": {},
          "execution_count": 35
        }
      ],
      "source": [
        "from sklearn.decomposition import NMF\n",
        "\n",
        "nmf = NMF(alpha_W=0.0,\n",
        "         init='nndsvdar',\n",
        "         l1_ratio=0.0,\n",
        "         max_iter = 500,\n",
        "         n_components = 50,\n",
        "         solver='cd')\n",
        "\n",
        "text_nmf = nmf.fit_transform(text_tfidf)\n",
        "text_nmf.shape"
      ]
    },
    {
      "cell_type": "markdown",
      "metadata": {
        "id": "UtBIEFvcLghw"
      },
      "source": [
        "## Exploring Topics by Document"
      ]
    },
    {
      "cell_type": "code",
      "execution_count": 36,
      "metadata": {
        "id": "cmRtlPqTLghw"
      },
      "outputs": [],
      "source": [
        "# variable dependencies:\n",
        "text_series = pd.Series(all_text)\n",
        "\n",
        "def docs_by_tops(top_mat, topic_range = (0,0), doc_range = (0,2)):\n",
        "    for i in range(topic_range[0], topic_range[1]):\n",
        "        topic_scores = pd.Series(top_mat[:,i])\n",
        "        doc_index = topic_scores.sort_values(ascending = False)[doc_range[0]:doc_range[1]].index\n",
        "        for j, index in enumerate(doc_index, doc_range[0]):\n",
        "            print('Topic #{}'.format(i),\n",
        "                  '\\nDocument #{}'.format(j),\n",
        "                  '\\nTopic Score: {}\\n\\n'.format(topic_scores[index]),\n",
        "                  text_series[index], '\\n\\n')"
      ]
    },
    {
      "cell_type": "code",
      "execution_count": 37,
      "metadata": {
        "id": "I48I6lg8Lghw",
        "outputId": "21871de5-f896-4080-d502-21e5cb960cc7",
        "colab": {
          "base_uri": "https://localhost:8080/"
        }
      },
      "outputs": [
        {
          "output_type": "stream",
          "name": "stdout",
          "text": [
            "Topic #0 \n",
            "Document #0 \n",
            "Topic Score: 0.43007700278226135\n",
            "\n",
            " Mrs. Levy'S Lemon Love Notes 1 c. butter; 2 c. flour; 1/2 c. powdered sugar Mix and press into 9 x 13-inch pan. Bake at 325°. \n",
            "\n",
            "\n",
            "Topic #0 \n",
            "Document #1 \n",
            "Topic Score: 0.4018497265879504\n",
            "\n",
            " Mozzarella Cheese 2 gal. fresh goat milk; 1 c. buttermilk (I use Meadowbrook dairy buttermilk); 2 Rennet (Junket) tablets, dissolved in a little cold water; salt A simple cheese recipe. This vinegar cheese is easy to make and doesn't require fancy equipment. \n",
            "\n",
            "\n",
            "Topic #0 \n",
            "Document #2 \n",
            "Topic Score: 0.27794307198981705\n",
            "\n",
            " Peanut Brittle 1 c. sugar; 1/4 c. hot water; salt; 1/2 c. white Karo; vanilla Cook all until spins a thread. Add 2 cups raw peanuts. Cook until pops and browns. Add teaspoon soda, pour on buttered cookie sheet. As soon as able to handle, pull onto buttered tabletop. \n",
            "\n",
            "\n",
            "Topic #1 \n",
            "Document #0 \n",
            "Topic Score: 0.4745425963223447\n",
            "\n",
            " Play Dough 1 c. flour; 2 tsp. cream of tartar (most important, do not omit); 1 Tbsp. salad oil; 1/2 c. salt; 1/2 tsp. peppermint flavoring; 1 c. water; 1/2 tsp. food coloring This is the famous play dough I used in the 2-year old Sunday School class. It will wash out of clothes and carpets! \n",
            "\n",
            "\n",
            "Topic #1 \n",
            "Document #1 \n",
            "Topic Score: 0.3053870079705049\n",
            "\n",
            " Almond Bark 1 c. whole blanched almonds; 1 tsp. butter or margarine; 1 lb. white chocolate Put almonds and butter in a 9 inch microproof pie plate. Cook on HI (max. power) for 4-5 1/2 minutes, or until toasted. Stir twice during cooking; set aside. Put white chocolate in large microproof mixing bowl and cook on HI (max. power) for 2 1/2-3 minutes, or until softened. Stir in almonds and pour onto waxed paper lined baking sheets. Spread to desired thickness and refrigerate until set. \n",
            "\n",
            "\n",
            "Topic #1 \n",
            "Document #2 \n",
            "Topic Score: 0.28275808257239216\n",
            "\n",
            " Glazed Butterflies 1 pkg. wonton skins; 3 c. sugar; 1 Tbsp. oil; peanut oil; 1 c. water Twist each wonton skin in the center to resemble a butterfly. Heat peanut oil to 375° in saucepan or electric skillet. Deep fry each skin in hot oil until golden brown. Drain on paper towel. \n",
            "\n",
            "\n",
            "Topic #2 \n",
            "Document #0 \n",
            "Topic Score: 0.8563677523843003\n",
            "\n",
            " Bavarian Tart 1 c. flour; 1 stick margarine, melted; 1 c. chopped nuts; 8 oz. cream cheese; 1 c. powdered sugar; 1 carton Cool Whip; 1 small box instant chocolate pudding; 1 small box instant vanilla pudding; 2 c. milk; 1 Hershey's chocolate bar Mix flour, margarine and nuts. Press into 9 x 13-inch pan. Bake at 350° for 15 minutes. Do not overcook. Let cool. Combine cream cheese and powdered sugar. Fold half of a tub of Cool Whip into the cream cheese mixture. Spread over cooled crust. Combine puddings and milk and spread over cream cheese mixture. Spread the rest of the Cool Whip on top and add shavings of Hershey's chocolate bar to garnish. \n",
            "\n",
            "\n",
            "Topic #2 \n",
            "Document #1 \n",
            "Topic Score: 0.8498198287529035\n",
            "\n",
            " 4-Layer Delight 1 c. flour; 1/2 c. pecans, chopped; 1 stick margarine; 8 oz. cream cheese; 1 c. confectioners sugar; 1 c. Cool Whip; 2 small pkg. instant chocolate pudding; 3 c. milk; 1 (9 oz.) Cool Whip; nuts Mix flour and pecans; melt margarine and pour into flour mix. Stir until well mixed. Press in bottom of large Pyrex baking dish. Bake at 350° until brown. Cool. Blend cream cheese, confectioners sugar and 1 cup Cool Whip. Spread on crust. Mix pudding mix and 3 cups milk for next layer. Spread Cool Whip over this and sprinkle with nuts. Refrigerate until served. \n",
            "\n",
            "\n",
            "Topic #2 \n",
            "Document #2 \n",
            "Topic Score: 0.8433457328319033\n",
            "\n",
            " Strawberry Delight 1 c. flour; 1/2 c. pecans, chopped; 1 stick margarine; 8 oz. pkg. cream cheese; 1 c. confectioners sugar; 1 c. Cool Whip; 2 small pkg. vanilla instant pudding mix; 3 c. milk Mix floured pecans. Melt butter and pour over flour and pecans mixture. Mix well and press into bottom of large dish. Bake at 350° until brown. Cool. Blend cream cheese, confectioners sugar and 1 cup Cool Whip. Spread over cooled crust. Mix pudding and milk. Spread over cream cheese layer. Put Cool Whip on top of strawberry. Decorate with strawberries, if desired. \n",
            "\n",
            "\n"
          ]
        }
      ],
      "source": [
        "docs_by_tops(text_lda,(0,3),(0,3))"
      ]
    },
    {
      "cell_type": "code",
      "execution_count": 38,
      "metadata": {
        "id": "5HSQInuDLghx",
        "outputId": "807ca888-61bc-4939-d41c-b67fe03d995d",
        "colab": {
          "base_uri": "https://localhost:8080/"
        }
      },
      "outputs": [
        {
          "output_type": "stream",
          "name": "stdout",
          "text": [
            "Topic #0 \n",
            "Document #0 \n",
            "Topic Score: 0.0441660776854756\n",
            "\n",
            " Buttermilk Cake 1 c. Crisco; 3 c. sugar; 1 c. eggs (5, whole); 1 c. buttermilk; 3 c. flour; 1/2 tsp. salt; 1/2 tsp. soda; 2 tsp. vanilla Mix shortening, sugar and eggs alternately putting in flour and buttermilk. Grease and flour middle and bottom of pan. Bake 1 1/2 hours at 325°. \n",
            "\n",
            "\n",
            "Topic #0 \n",
            "Document #1 \n",
            "Topic Score: 0.04396820841014746\n",
            "\n",
            " Buttermilk Pound Cake 1 c. Crisco; 3 c. sugar; 5 eggs; 3 c. flour; 1/4 tsp. salt; 1 c. buttermilk; 1/2 tsp. soda; 1 tsp. vanilla Cream sugar and shortening; add eggs, one at a time, beating well after each. Sift together flour and salt. Mix soda and buttermilk. Add alternately the milk and flour to first mixture. Beat in vanilla; bake at 350° for 1 hour (the original recipe says 1 hour and 20 minutes but that's too long in my oven). \n",
            "\n",
            "\n",
            "Topic #0 \n",
            "Document #2 \n",
            "Topic Score: 0.04239816594266421\n",
            "\n",
            " Buttermilk Biscuits 2 c. flour; 1 tsp. salt; 2 tsp. baking powder; 1 tsp. sugar; 1/2 tsp. soda; 1/4 c. shortening; 1 c. buttermilk Preheat oven to 450°. Mix together flour, salt, baking powder, sugar and soda. Cut in shortening. Add buttermilk. Mix, pat and cut. Yields 12 biscuits. \n",
            "\n",
            "\n",
            "Topic #1 \n",
            "Document #0 \n",
            "Topic Score: 0.11691764844111119\n",
            "\n",
            " Ground Beef Casserole 1 pkg. noodles; 1/2 lb. cheese; 1 can mushroom soup; 1 can milk; 1/2 onion; 1 lb. ground beef Cook and drain noodles. Brown meat and onions and place in layers in baking dish along with the other ingredients. Cook at about 350° for 30 to 40 minutes or until done. \n",
            "\n",
            "\n",
            "Topic #1 \n",
            "Document #1 \n",
            "Topic Score: 0.1035503897219969\n",
            "\n",
            " Quick Beef Stroganoff 1 lb. ground beef; 1/2 pt. sour cream; 2 medium onions; 1 can mushroom soup; 1 Tbsp. mustard Brown ground beef and drain. Saute onions and add to beef. Add mushroom soup and mustard. Mix well. Allow to simmer for 20 minutes. Just before serving, fold in sour cream. Serve on toast, pasta or rice. \n",
            "\n",
            "\n",
            "Topic #1 \n",
            "Document #2 \n",
            "Topic Score: 0.09650496525043638\n",
            "\n",
            " Mile High Barbecue Beef 3 lb. chuck roast or round steak; 2 c. beef broth; 1 c. chopped onion; 1/2 c. chopped celery Brown meat in small amount of oil along with celery and onion. Add meat mixture to beef broth and bring to boil. Simmer 3 hours. \n",
            "\n",
            "\n",
            "Topic #2 \n",
            "Document #0 \n",
            "Topic Score: 0.1259470322455927\n",
            "\n",
            " Delight 1 c. flour; 1 stick margarine, melted and cooled; 1 c. chopped nuts; 1 (8 oz.) cream cheese; 1 (8 oz.) Cool Whip; 1 large box instant cocoa, vanilla or other pudding; 3 c. milk Mix cream cheese and Cool Whip; put on crust. Mix pudding and milk. Pour on other filling. Top with more Cool Whip and chopped nuts. Keep refrigerated. \n",
            "\n",
            "\n",
            "Topic #2 \n",
            "Document #1 \n",
            "Topic Score: 0.12216753196105658\n",
            "\n",
            " Chocolate Layer Dessert 1 1/4 c. flour; 1/2 c. chopped nuts; 1 c. margarine; 1 (8 oz.) pkg. cream cheese; 1 c. powdered sugar; 1 c. Cool Whip; 1 small box instant chocolate pudding; 1 small box instant vanilla pudding; 3 c. milk Mix flour, nuts and margarine together and pat in 9 x 13-inch pan. Bake at 350° for 20 minutes. Let cool. Mix cream cheese, powdered sugar and Cool Whip together and pour over crust. Mix puddings and milk and pour over cream cheese mixture. Top with Cool Whip and nuts. Refrigerate. \n",
            "\n",
            "\n",
            "Topic #2 \n",
            "Document #2 \n",
            "Topic Score: 0.1216286111145792\n",
            "\n",
            " Pudding Cake 1 c. flour; 1 stick soft or melted margarine; 1 c. pecans; 1 pkg. cream cheese; 1 c. Cool Whip; 1 1/2 c. powdered sugar; 1 pkg. chocolate instant pudding; 1 pkg. French vanilla instant pudding; additional Cool Whip Mix flour and margarine together. Press in bottom of pan. Add pecans and press into the dough. Bake at 350° for 20 minutes or so, then let cool. Mix cream cheese, 1 cup Cool Whip and powdered sugar. Spread on top of dough crust. Mix chocolate instant pudding and spread over cream cheese mixture. Mix French vanilla instant pudding and spread over chocolate. Cover top with Cool Whip and garnish with whatever. \n",
            "\n",
            "\n"
          ]
        }
      ],
      "source": [
        "docs_by_tops(text_nmf,(0,3),(0,3))"
      ]
    },
    {
      "cell_type": "code",
      "execution_count": 39,
      "metadata": {
        "id": "JNKl7lSeLghx"
      },
      "outputs": [],
      "source": [
        "docs_by_tops(text_nmf,(1,2),(90000,90001))"
      ]
    },
    {
      "cell_type": "markdown",
      "metadata": {
        "id": "XVJElBvZLghx"
      },
      "source": [
        "### Exploring Topics by words"
      ]
    },
    {
      "cell_type": "code",
      "execution_count": 40,
      "metadata": {
        "id": "zQtZ7DjjLghx",
        "outputId": "60acdee3-28d2-4756-fe35-cb4312ae3da3",
        "colab": {
          "base_uri": "https://localhost:8080/"
        }
      },
      "outputs": [
        {
          "output_type": "execute_result",
          "data": {
            "text/plain": [
              "(9998, 50)"
            ]
          },
          "metadata": {},
          "execution_count": 40
        }
      ],
      "source": [
        "text_nmf.shape"
      ]
    },
    {
      "cell_type": "code",
      "execution_count": 41,
      "metadata": {
        "id": "lXjLmvpiLghx",
        "outputId": "ef260c4e-4df8-4aba-ebce-20901401a23b",
        "colab": {
          "base_uri": "https://localhost:8080/"
        }
      },
      "outputs": [
        {
          "output_type": "execute_result",
          "data": {
            "text/plain": [
              "(6520, 9998)"
            ]
          },
          "metadata": {},
          "execution_count": 41
        }
      ],
      "source": [
        "text_tfidf.T.shape"
      ]
    },
    {
      "cell_type": "code",
      "execution_count": 42,
      "metadata": {
        "id": "26FWKGcnLghy"
      },
      "outputs": [],
      "source": [
        "# Function for best topic words using cosine similarity\n",
        "# Variable Dependency:\n",
        "word_series = pd.Series(tfidf_words)\n",
        "\n",
        "def words_by_tops(tfidf_mat, top_mat, topic_range=(0,0), n_words=10):\n",
        "    topic_word_scores = tfidf_mat.T * top_mat\n",
        "    for i in range(topic_range[0],topic_range[1]):\n",
        "        word_scores = pd.Series(topic_word_scores[:,i])\n",
        "        word_index = word_scores.sort_values(ascending = False)[:n_words].index\n",
        "        print('\\nTopic #{}'.format(i))\n",
        "        for index in word_index:\n",
        "            print(word_series[index],'\\t\\t', word_scores[index])"
      ]
    },
    {
      "cell_type": "code",
      "execution_count": 43,
      "metadata": {
        "id": "WkVXlVevLghy",
        "outputId": "69593ed9-bd3f-4b92-ad5c-97483b8efed7",
        "colab": {
          "base_uri": "https://localhost:8080/"
        }
      },
      "outputs": [
        {
          "output_type": "stream",
          "name": "stdout",
          "text": [
            "\n",
            "Topic #0\n",
            "tsp \t\t 3.2074210169838304\n",
            "sugar \t\t 2.440503136394399\n",
            "add \t\t 2.0984353177940305\n",
            "pepper \t\t 2.071932956392762\n",
            "salt \t\t 2.055477396918098\n",
            "bake \t\t 2.0120752353575497\n",
            "egg \t\t 1.9956188855110533\n",
            "chop \t\t 1.9893244960308398\n",
            "onion \t\t 1.97674460862506\n",
            "tbsp \t\t 1.927288723645294\n",
            "\n",
            "Topic #1\n",
            "tsp \t\t 2.5730752714841696\n",
            "sugar \t\t 2.209529875763084\n",
            "bake \t\t 1.7659319977104846\n",
            "add \t\t 1.7404169740446578\n",
            "egg \t\t 1.736638979335014\n",
            "butter \t\t 1.7247771557156584\n",
            "cheese \t\t 1.6729457148765474\n",
            "mix \t\t 1.6593641030079576\n",
            "flour \t\t 1.6496398831498968\n",
            "cream \t\t 1.5696709098368546\n",
            "\n",
            "Topic #2\n",
            "cake \t\t 54.644119658773036\n",
            "whip \t\t 41.37429078661943\n",
            "pudding \t\t 37.637532891950514\n",
            "cool \t\t 36.444987238817816\n",
            "mix \t\t 34.56096106478844\n",
            "cream \t\t 30.563161565644688\n",
            "sugar \t\t 27.062794216285724\n",
            "oz \t\t 26.507712070315687\n",
            "cracker \t\t 25.070685056014426\n",
            "graham \t\t 23.809452156106396\n"
          ]
        }
      ],
      "source": [
        "# Keywords using LDA\n",
        "words_by_tops(text_tfidf, text_lda, (0,3), 10)"
      ]
    },
    {
      "cell_type": "code",
      "execution_count": 44,
      "metadata": {
        "id": "sfvn12lOLghy",
        "outputId": "a172a5fe-b5d9-4612-a20e-665d3c172165",
        "colab": {
          "base_uri": "https://localhost:8080/"
        }
      },
      "outputs": [
        {
          "output_type": "stream",
          "name": "stdout",
          "text": [
            "\n",
            "Topic #0\n",
            "flour \t\t 5.589282223548514\n",
            "tsp \t\t 4.851694195302441\n",
            "sugar \t\t 4.07635681027915\n",
            "bake \t\t 3.843447266437432\n",
            "egg \t\t 3.7686191907249773\n",
            "soda \t\t 3.3603891418068605\n",
            "add \t\t 2.835618197523376\n",
            "vanilla \t\t 2.441648746857123\n",
            "salt \t\t 2.42107215074725\n",
            "butter \t\t 2.2256365216104945\n",
            "\n",
            "Topic #1\n",
            "beef \t\t 7.769342476725464\n",
            "ground \t\t 5.045811411249011\n",
            "onion \t\t 4.623262208500087\n",
            "meat \t\t 4.254031511918164\n",
            "lb \t\t 4.145119064451819\n",
            "pepper \t\t 3.4531708060271304\n",
            "tsp \t\t 3.257331348539831\n",
            "sauce \t\t 3.2472616629105753\n",
            "tomato \t\t 2.8995771079750776\n",
            "brown \t\t 2.787570435728874\n",
            "\n",
            "Topic #2\n",
            "whip \t\t 6.786199727343367\n",
            "cool \t\t 5.785965253026512\n",
            "pudding \t\t 4.650778691603197\n",
            "cream \t\t 3.1599290687788306\n",
            "mix \t\t 2.909796445446515\n",
            "oz \t\t 2.882402638023304\n",
            "cake \t\t 2.778838760439962\n",
            "sugar \t\t 2.756448219094472\n",
            "milk \t\t 2.4727435573718597\n",
            "instant \t\t 2.363886369002764\n"
          ]
        }
      ],
      "source": [
        "# Words using NMF\n",
        "words_by_tops(text_tfidf, text_nmf, (0,3), 10)"
      ]
    },
    {
      "cell_type": "markdown",
      "metadata": {
        "id": "C3iN2WSuLghz"
      },
      "source": [
        "### Keyword Extraction of Topics Using TextRank"
      ]
    },
    {
      "cell_type": "code",
      "execution_count": 45,
      "metadata": {
        "id": "wVjTaMajLghz"
      },
      "outputs": [],
      "source": [
        "# Pulling the top one-hundred documents ranked in similarity among Topic #1\n",
        "text_index = pd.Series(text_nmf[:,1]).sort_values(ascending = False)[:100].index\n",
        "text_4summary = pd.Series(cleaned_text)[text_index]\n",
        "\n",
        "# Manually Creating a list of recipe stop\n",
        "recipe_stopwords = ['cup','cups','ingredient','ingredients','teaspoon','tablespoon','oven']\n"
      ]
    },
    {
      "cell_type": "code",
      "execution_count": 46,
      "metadata": {
        "id": "Y2779-UWLghz",
        "outputId": "a44c114f-3e64-4f78-ecf7-c39897cbd033",
        "colab": {
          "base_uri": "https://localhost:8080/"
        }
      },
      "outputs": [
        {
          "output_type": "stream",
          "name": "stdout",
          "text": [
            "Execution Time: 2.7484233379364014 seconds\n"
          ]
        }
      ],
      "source": [
        "# generating topic filter\n",
        "import time\n",
        "start_time = time.time()\n",
        "\n",
        "parsed_texts = nlp(' '.join(text_4summary))\n",
        "kw_filts = set([str(word) for word in parsed_texts\n",
        "                if (word.pos_== ('NOUN' or 'ADJ' or 'VERB'))\n",
        "                and str(word) not in recipe_stopwords])\n",
        "\n",
        "timee = time.time() - start_time\n",
        "print(f'Execution Time: {timee} seconds')\n"
      ]
    },
    {
      "cell_type": "code",
      "source": [
        "temp = []\n",
        "for i in kw_filts:\n",
        "  temp.append(i.lower())"
      ],
      "metadata": {
        "id": "gs1DPaU3PqZT"
      },
      "execution_count": 47,
      "outputs": []
    },
    {
      "cell_type": "code",
      "source": [
        "len(list(set(kw_filts)))"
      ],
      "metadata": {
        "colab": {
          "base_uri": "https://localhost:8080/"
        },
        "id": "kpCmLDVQQERJ",
        "outputId": "fddaa0ce-dd3a-49dd-e624-aedf15f73086"
      },
      "execution_count": 48,
      "outputs": [
        {
          "output_type": "execute_result",
          "data": {
            "text/plain": [
              "316"
            ]
          },
          "metadata": {},
          "execution_count": 48
        }
      ]
    },
    {
      "cell_type": "code",
      "source": [
        "kw_filts_unique = list(set(temp))\n",
        "print(len(kw_filts_unique))"
      ],
      "metadata": {
        "colab": {
          "base_uri": "https://localhost:8080/"
        },
        "id": "_MoS54mQNPRO",
        "outputId": "01349abb-1236-4392-f9e5-3a1ea462e2b4"
      },
      "execution_count": 49,
      "outputs": [
        {
          "output_type": "stream",
          "name": "stdout",
          "text": [
            "305\n"
          ]
        }
      ]
    },
    {
      "cell_type": "code",
      "execution_count": 50,
      "metadata": {
        "id": "zPZqb67aLgh0"
      },
      "outputs": [],
      "source": [
        "# Creating adjecency Table for recipes.\n",
        "adjacency = pd.DataFrame(columns=kw_filts_unique, index=kw_filts_unique, data = 0)\n",
        "for i, word in enumerate(parsed_texts):\n",
        "    if str(word) in kw_filts_unique:\n",
        "        end = min(len(parsed_texts), i+5)  # Window of four words\n",
        "        nextwords = parsed_texts[i+1:end]\n",
        "        inset = [str(x) in kw_filts_unique for x in nextwords]\n",
        "        neighbors = [str(nextwords[i]) for i in range(len(nextwords)) if inset[i]]\n",
        "        if neighbors:\n",
        "          # print(str(word), neighbors)\n",
        "          for i in neighbors:\n",
        "            adjacency.loc[str(word), i] += 1"
      ]
    },
    {
      "cell_type": "code",
      "execution_count": 51,
      "metadata": {
        "id": "IprmH1j3Lgh0",
        "outputId": "08e27da1-859c-4640-a667-263ddf0673ab",
        "colab": {
          "base_uri": "https://localhost:8080/",
          "height": 423
        }
      },
      "outputs": [
        {
          "output_type": "execute_result",
          "data": {
            "text/plain": [
              "           drop  sides  ground  season  box  z  thyme  whites  skillet  \\\n",
              "drop          0      0       0       0    0  0      0       0        0   \n",
              "sides         0      0       0       0    0  0      0       0        0   \n",
              "ground        0      0       8       0    0  0      0       0        8   \n",
              "season        0      0       0       0    0  0      0       0        0   \n",
              "box           0      0       2       0    0  0      0       0        0   \n",
              "...         ...    ...     ...     ...  ... ..    ...     ...      ...   \n",
              "meal          0      0       0       0    0  0      0       0        0   \n",
              "roast         0      0       0       0    0  0      0       0        0   \n",
              "broth         0      0       0       0    0  0      1       0        0   \n",
              "sausage       0      0       0       0    0  0      0       0        1   \n",
              "remainder     0      0       0       0    0  0      0       0        0   \n",
              "\n",
              "           vinegar  ...  rice  tapioca  currant  grease  bag  meal  roast  \\\n",
              "drop             0  ...     0        0        0       0    0     0      0   \n",
              "sides            0  ...     0        0        0       0    0     0      0   \n",
              "ground           1  ...     2        0        0       0    0     0      0   \n",
              "season           0  ...     0        0        0       0    0     0      0   \n",
              "box              0  ...     0        0        0       0    0     0      0   \n",
              "...            ...  ...   ...      ...      ...     ...  ...   ...    ...   \n",
              "meal             0  ...     0        0        0       0    0     0      0   \n",
              "roast            0  ...     0        0        0       0    0     0      0   \n",
              "broth            0  ...     0        0        0       0    0     0      0   \n",
              "sausage          0  ...     0        0        0       0    0     0      0   \n",
              "remainder        0  ...     0        0        0       0    0     0      0   \n",
              "\n",
              "           broth  sausage  remainder  \n",
              "drop           0        0          0  \n",
              "sides          0        0          0  \n",
              "ground         0        2          0  \n",
              "season         0        0          0  \n",
              "box            0        0          0  \n",
              "...          ...      ...        ...  \n",
              "meal           0        0          0  \n",
              "roast          0        0          0  \n",
              "broth          0        0          0  \n",
              "sausage        0        0          0  \n",
              "remainder      0        0          0  \n",
              "\n",
              "[305 rows x 305 columns]"
            ],
            "text/html": [
              "\n",
              "  <div id=\"df-4a0c93b3-6b11-415b-bdb5-3281fdb2c3d3\" class=\"colab-df-container\">\n",
              "    <div>\n",
              "<style scoped>\n",
              "    .dataframe tbody tr th:only-of-type {\n",
              "        vertical-align: middle;\n",
              "    }\n",
              "\n",
              "    .dataframe tbody tr th {\n",
              "        vertical-align: top;\n",
              "    }\n",
              "\n",
              "    .dataframe thead th {\n",
              "        text-align: right;\n",
              "    }\n",
              "</style>\n",
              "<table border=\"1\" class=\"dataframe\">\n",
              "  <thead>\n",
              "    <tr style=\"text-align: right;\">\n",
              "      <th></th>\n",
              "      <th>drop</th>\n",
              "      <th>sides</th>\n",
              "      <th>ground</th>\n",
              "      <th>season</th>\n",
              "      <th>box</th>\n",
              "      <th>z</th>\n",
              "      <th>thyme</th>\n",
              "      <th>whites</th>\n",
              "      <th>skillet</th>\n",
              "      <th>vinegar</th>\n",
              "      <th>...</th>\n",
              "      <th>rice</th>\n",
              "      <th>tapioca</th>\n",
              "      <th>currant</th>\n",
              "      <th>grease</th>\n",
              "      <th>bag</th>\n",
              "      <th>meal</th>\n",
              "      <th>roast</th>\n",
              "      <th>broth</th>\n",
              "      <th>sausage</th>\n",
              "      <th>remainder</th>\n",
              "    </tr>\n",
              "  </thead>\n",
              "  <tbody>\n",
              "    <tr>\n",
              "      <th>drop</th>\n",
              "      <td>0</td>\n",
              "      <td>0</td>\n",
              "      <td>0</td>\n",
              "      <td>0</td>\n",
              "      <td>0</td>\n",
              "      <td>0</td>\n",
              "      <td>0</td>\n",
              "      <td>0</td>\n",
              "      <td>0</td>\n",
              "      <td>0</td>\n",
              "      <td>...</td>\n",
              "      <td>0</td>\n",
              "      <td>0</td>\n",
              "      <td>0</td>\n",
              "      <td>0</td>\n",
              "      <td>0</td>\n",
              "      <td>0</td>\n",
              "      <td>0</td>\n",
              "      <td>0</td>\n",
              "      <td>0</td>\n",
              "      <td>0</td>\n",
              "    </tr>\n",
              "    <tr>\n",
              "      <th>sides</th>\n",
              "      <td>0</td>\n",
              "      <td>0</td>\n",
              "      <td>0</td>\n",
              "      <td>0</td>\n",
              "      <td>0</td>\n",
              "      <td>0</td>\n",
              "      <td>0</td>\n",
              "      <td>0</td>\n",
              "      <td>0</td>\n",
              "      <td>0</td>\n",
              "      <td>...</td>\n",
              "      <td>0</td>\n",
              "      <td>0</td>\n",
              "      <td>0</td>\n",
              "      <td>0</td>\n",
              "      <td>0</td>\n",
              "      <td>0</td>\n",
              "      <td>0</td>\n",
              "      <td>0</td>\n",
              "      <td>0</td>\n",
              "      <td>0</td>\n",
              "    </tr>\n",
              "    <tr>\n",
              "      <th>ground</th>\n",
              "      <td>0</td>\n",
              "      <td>0</td>\n",
              "      <td>8</td>\n",
              "      <td>0</td>\n",
              "      <td>0</td>\n",
              "      <td>0</td>\n",
              "      <td>0</td>\n",
              "      <td>0</td>\n",
              "      <td>8</td>\n",
              "      <td>1</td>\n",
              "      <td>...</td>\n",
              "      <td>2</td>\n",
              "      <td>0</td>\n",
              "      <td>0</td>\n",
              "      <td>0</td>\n",
              "      <td>0</td>\n",
              "      <td>0</td>\n",
              "      <td>0</td>\n",
              "      <td>0</td>\n",
              "      <td>2</td>\n",
              "      <td>0</td>\n",
              "    </tr>\n",
              "    <tr>\n",
              "      <th>season</th>\n",
              "      <td>0</td>\n",
              "      <td>0</td>\n",
              "      <td>0</td>\n",
              "      <td>0</td>\n",
              "      <td>0</td>\n",
              "      <td>0</td>\n",
              "      <td>0</td>\n",
              "      <td>0</td>\n",
              "      <td>0</td>\n",
              "      <td>0</td>\n",
              "      <td>...</td>\n",
              "      <td>0</td>\n",
              "      <td>0</td>\n",
              "      <td>0</td>\n",
              "      <td>0</td>\n",
              "      <td>0</td>\n",
              "      <td>0</td>\n",
              "      <td>0</td>\n",
              "      <td>0</td>\n",
              "      <td>0</td>\n",
              "      <td>0</td>\n",
              "    </tr>\n",
              "    <tr>\n",
              "      <th>box</th>\n",
              "      <td>0</td>\n",
              "      <td>0</td>\n",
              "      <td>2</td>\n",
              "      <td>0</td>\n",
              "      <td>0</td>\n",
              "      <td>0</td>\n",
              "      <td>0</td>\n",
              "      <td>0</td>\n",
              "      <td>0</td>\n",
              "      <td>0</td>\n",
              "      <td>...</td>\n",
              "      <td>0</td>\n",
              "      <td>0</td>\n",
              "      <td>0</td>\n",
              "      <td>0</td>\n",
              "      <td>0</td>\n",
              "      <td>0</td>\n",
              "      <td>0</td>\n",
              "      <td>0</td>\n",
              "      <td>0</td>\n",
              "      <td>0</td>\n",
              "    </tr>\n",
              "    <tr>\n",
              "      <th>...</th>\n",
              "      <td>...</td>\n",
              "      <td>...</td>\n",
              "      <td>...</td>\n",
              "      <td>...</td>\n",
              "      <td>...</td>\n",
              "      <td>...</td>\n",
              "      <td>...</td>\n",
              "      <td>...</td>\n",
              "      <td>...</td>\n",
              "      <td>...</td>\n",
              "      <td>...</td>\n",
              "      <td>...</td>\n",
              "      <td>...</td>\n",
              "      <td>...</td>\n",
              "      <td>...</td>\n",
              "      <td>...</td>\n",
              "      <td>...</td>\n",
              "      <td>...</td>\n",
              "      <td>...</td>\n",
              "      <td>...</td>\n",
              "      <td>...</td>\n",
              "    </tr>\n",
              "    <tr>\n",
              "      <th>meal</th>\n",
              "      <td>0</td>\n",
              "      <td>0</td>\n",
              "      <td>0</td>\n",
              "      <td>0</td>\n",
              "      <td>0</td>\n",
              "      <td>0</td>\n",
              "      <td>0</td>\n",
              "      <td>0</td>\n",
              "      <td>0</td>\n",
              "      <td>0</td>\n",
              "      <td>...</td>\n",
              "      <td>0</td>\n",
              "      <td>0</td>\n",
              "      <td>0</td>\n",
              "      <td>0</td>\n",
              "      <td>0</td>\n",
              "      <td>0</td>\n",
              "      <td>0</td>\n",
              "      <td>0</td>\n",
              "      <td>0</td>\n",
              "      <td>0</td>\n",
              "    </tr>\n",
              "    <tr>\n",
              "      <th>roast</th>\n",
              "      <td>0</td>\n",
              "      <td>0</td>\n",
              "      <td>0</td>\n",
              "      <td>0</td>\n",
              "      <td>0</td>\n",
              "      <td>0</td>\n",
              "      <td>0</td>\n",
              "      <td>0</td>\n",
              "      <td>0</td>\n",
              "      <td>0</td>\n",
              "      <td>...</td>\n",
              "      <td>0</td>\n",
              "      <td>0</td>\n",
              "      <td>0</td>\n",
              "      <td>0</td>\n",
              "      <td>0</td>\n",
              "      <td>0</td>\n",
              "      <td>0</td>\n",
              "      <td>0</td>\n",
              "      <td>0</td>\n",
              "      <td>0</td>\n",
              "    </tr>\n",
              "    <tr>\n",
              "      <th>broth</th>\n",
              "      <td>0</td>\n",
              "      <td>0</td>\n",
              "      <td>0</td>\n",
              "      <td>0</td>\n",
              "      <td>0</td>\n",
              "      <td>0</td>\n",
              "      <td>1</td>\n",
              "      <td>0</td>\n",
              "      <td>0</td>\n",
              "      <td>0</td>\n",
              "      <td>...</td>\n",
              "      <td>0</td>\n",
              "      <td>0</td>\n",
              "      <td>0</td>\n",
              "      <td>0</td>\n",
              "      <td>0</td>\n",
              "      <td>0</td>\n",
              "      <td>0</td>\n",
              "      <td>0</td>\n",
              "      <td>0</td>\n",
              "      <td>0</td>\n",
              "    </tr>\n",
              "    <tr>\n",
              "      <th>sausage</th>\n",
              "      <td>0</td>\n",
              "      <td>0</td>\n",
              "      <td>0</td>\n",
              "      <td>0</td>\n",
              "      <td>0</td>\n",
              "      <td>0</td>\n",
              "      <td>0</td>\n",
              "      <td>0</td>\n",
              "      <td>1</td>\n",
              "      <td>0</td>\n",
              "      <td>...</td>\n",
              "      <td>0</td>\n",
              "      <td>0</td>\n",
              "      <td>0</td>\n",
              "      <td>0</td>\n",
              "      <td>0</td>\n",
              "      <td>0</td>\n",
              "      <td>0</td>\n",
              "      <td>0</td>\n",
              "      <td>0</td>\n",
              "      <td>0</td>\n",
              "    </tr>\n",
              "    <tr>\n",
              "      <th>remainder</th>\n",
              "      <td>0</td>\n",
              "      <td>0</td>\n",
              "      <td>0</td>\n",
              "      <td>0</td>\n",
              "      <td>0</td>\n",
              "      <td>0</td>\n",
              "      <td>0</td>\n",
              "      <td>0</td>\n",
              "      <td>0</td>\n",
              "      <td>0</td>\n",
              "      <td>...</td>\n",
              "      <td>0</td>\n",
              "      <td>0</td>\n",
              "      <td>0</td>\n",
              "      <td>0</td>\n",
              "      <td>0</td>\n",
              "      <td>0</td>\n",
              "      <td>0</td>\n",
              "      <td>0</td>\n",
              "      <td>0</td>\n",
              "      <td>0</td>\n",
              "    </tr>\n",
              "  </tbody>\n",
              "</table>\n",
              "<p>305 rows × 305 columns</p>\n",
              "</div>\n",
              "    <div class=\"colab-df-buttons\">\n",
              "\n",
              "  <div class=\"colab-df-container\">\n",
              "    <button class=\"colab-df-convert\" onclick=\"convertToInteractive('df-4a0c93b3-6b11-415b-bdb5-3281fdb2c3d3')\"\n",
              "            title=\"Convert this dataframe to an interactive table.\"\n",
              "            style=\"display:none;\">\n",
              "\n",
              "  <svg xmlns=\"http://www.w3.org/2000/svg\" height=\"24px\" viewBox=\"0 -960 960 960\">\n",
              "    <path d=\"M120-120v-720h720v720H120Zm60-500h600v-160H180v160Zm220 220h160v-160H400v160Zm0 220h160v-160H400v160ZM180-400h160v-160H180v160Zm440 0h160v-160H620v160ZM180-180h160v-160H180v160Zm440 0h160v-160H620v160Z\"/>\n",
              "  </svg>\n",
              "    </button>\n",
              "\n",
              "  <style>\n",
              "    .colab-df-container {\n",
              "      display:flex;\n",
              "      gap: 12px;\n",
              "    }\n",
              "\n",
              "    .colab-df-convert {\n",
              "      background-color: #E8F0FE;\n",
              "      border: none;\n",
              "      border-radius: 50%;\n",
              "      cursor: pointer;\n",
              "      display: none;\n",
              "      fill: #1967D2;\n",
              "      height: 32px;\n",
              "      padding: 0 0 0 0;\n",
              "      width: 32px;\n",
              "    }\n",
              "\n",
              "    .colab-df-convert:hover {\n",
              "      background-color: #E2EBFA;\n",
              "      box-shadow: 0px 1px 2px rgba(60, 64, 67, 0.3), 0px 1px 3px 1px rgba(60, 64, 67, 0.15);\n",
              "      fill: #174EA6;\n",
              "    }\n",
              "\n",
              "    .colab-df-buttons div {\n",
              "      margin-bottom: 4px;\n",
              "    }\n",
              "\n",
              "    [theme=dark] .colab-df-convert {\n",
              "      background-color: #3B4455;\n",
              "      fill: #D2E3FC;\n",
              "    }\n",
              "\n",
              "    [theme=dark] .colab-df-convert:hover {\n",
              "      background-color: #434B5C;\n",
              "      box-shadow: 0px 1px 3px 1px rgba(0, 0, 0, 0.15);\n",
              "      filter: drop-shadow(0px 1px 2px rgba(0, 0, 0, 0.3));\n",
              "      fill: #FFFFFF;\n",
              "    }\n",
              "  </style>\n",
              "\n",
              "    <script>\n",
              "      const buttonEl =\n",
              "        document.querySelector('#df-4a0c93b3-6b11-415b-bdb5-3281fdb2c3d3 button.colab-df-convert');\n",
              "      buttonEl.style.display =\n",
              "        google.colab.kernel.accessAllowed ? 'block' : 'none';\n",
              "\n",
              "      async function convertToInteractive(key) {\n",
              "        const element = document.querySelector('#df-4a0c93b3-6b11-415b-bdb5-3281fdb2c3d3');\n",
              "        const dataTable =\n",
              "          await google.colab.kernel.invokeFunction('convertToInteractive',\n",
              "                                                    [key], {});\n",
              "        if (!dataTable) return;\n",
              "\n",
              "        const docLinkHtml = 'Like what you see? Visit the ' +\n",
              "          '<a target=\"_blank\" href=https://colab.research.google.com/notebooks/data_table.ipynb>data table notebook</a>'\n",
              "          + ' to learn more about interactive tables.';\n",
              "        element.innerHTML = '';\n",
              "        dataTable['output_type'] = 'display_data';\n",
              "        await google.colab.output.renderOutput(dataTable, element);\n",
              "        const docLink = document.createElement('div');\n",
              "        docLink.innerHTML = docLinkHtml;\n",
              "        element.appendChild(docLink);\n",
              "      }\n",
              "    </script>\n",
              "  </div>\n",
              "\n",
              "\n",
              "<div id=\"df-d757eca7-15b7-4180-a71d-d712279deefd\">\n",
              "  <button class=\"colab-df-quickchart\" onclick=\"quickchart('df-d757eca7-15b7-4180-a71d-d712279deefd')\"\n",
              "            title=\"Suggest charts\"\n",
              "            style=\"display:none;\">\n",
              "\n",
              "<svg xmlns=\"http://www.w3.org/2000/svg\" height=\"24px\"viewBox=\"0 0 24 24\"\n",
              "     width=\"24px\">\n",
              "    <g>\n",
              "        <path d=\"M19 3H5c-1.1 0-2 .9-2 2v14c0 1.1.9 2 2 2h14c1.1 0 2-.9 2-2V5c0-1.1-.9-2-2-2zM9 17H7v-7h2v7zm4 0h-2V7h2v10zm4 0h-2v-4h2v4z\"/>\n",
              "    </g>\n",
              "</svg>\n",
              "  </button>\n",
              "\n",
              "<style>\n",
              "  .colab-df-quickchart {\n",
              "      --bg-color: #E8F0FE;\n",
              "      --fill-color: #1967D2;\n",
              "      --hover-bg-color: #E2EBFA;\n",
              "      --hover-fill-color: #174EA6;\n",
              "      --disabled-fill-color: #AAA;\n",
              "      --disabled-bg-color: #DDD;\n",
              "  }\n",
              "\n",
              "  [theme=dark] .colab-df-quickchart {\n",
              "      --bg-color: #3B4455;\n",
              "      --fill-color: #D2E3FC;\n",
              "      --hover-bg-color: #434B5C;\n",
              "      --hover-fill-color: #FFFFFF;\n",
              "      --disabled-bg-color: #3B4455;\n",
              "      --disabled-fill-color: #666;\n",
              "  }\n",
              "\n",
              "  .colab-df-quickchart {\n",
              "    background-color: var(--bg-color);\n",
              "    border: none;\n",
              "    border-radius: 50%;\n",
              "    cursor: pointer;\n",
              "    display: none;\n",
              "    fill: var(--fill-color);\n",
              "    height: 32px;\n",
              "    padding: 0;\n",
              "    width: 32px;\n",
              "  }\n",
              "\n",
              "  .colab-df-quickchart:hover {\n",
              "    background-color: var(--hover-bg-color);\n",
              "    box-shadow: 0 1px 2px rgba(60, 64, 67, 0.3), 0 1px 3px 1px rgba(60, 64, 67, 0.15);\n",
              "    fill: var(--button-hover-fill-color);\n",
              "  }\n",
              "\n",
              "  .colab-df-quickchart-complete:disabled,\n",
              "  .colab-df-quickchart-complete:disabled:hover {\n",
              "    background-color: var(--disabled-bg-color);\n",
              "    fill: var(--disabled-fill-color);\n",
              "    box-shadow: none;\n",
              "  }\n",
              "\n",
              "  .colab-df-spinner {\n",
              "    border: 2px solid var(--fill-color);\n",
              "    border-color: transparent;\n",
              "    border-bottom-color: var(--fill-color);\n",
              "    animation:\n",
              "      spin 1s steps(1) infinite;\n",
              "  }\n",
              "\n",
              "  @keyframes spin {\n",
              "    0% {\n",
              "      border-color: transparent;\n",
              "      border-bottom-color: var(--fill-color);\n",
              "      border-left-color: var(--fill-color);\n",
              "    }\n",
              "    20% {\n",
              "      border-color: transparent;\n",
              "      border-left-color: var(--fill-color);\n",
              "      border-top-color: var(--fill-color);\n",
              "    }\n",
              "    30% {\n",
              "      border-color: transparent;\n",
              "      border-left-color: var(--fill-color);\n",
              "      border-top-color: var(--fill-color);\n",
              "      border-right-color: var(--fill-color);\n",
              "    }\n",
              "    40% {\n",
              "      border-color: transparent;\n",
              "      border-right-color: var(--fill-color);\n",
              "      border-top-color: var(--fill-color);\n",
              "    }\n",
              "    60% {\n",
              "      border-color: transparent;\n",
              "      border-right-color: var(--fill-color);\n",
              "    }\n",
              "    80% {\n",
              "      border-color: transparent;\n",
              "      border-right-color: var(--fill-color);\n",
              "      border-bottom-color: var(--fill-color);\n",
              "    }\n",
              "    90% {\n",
              "      border-color: transparent;\n",
              "      border-bottom-color: var(--fill-color);\n",
              "    }\n",
              "  }\n",
              "</style>\n",
              "\n",
              "  <script>\n",
              "    async function quickchart(key) {\n",
              "      const quickchartButtonEl =\n",
              "        document.querySelector('#' + key + ' button');\n",
              "      quickchartButtonEl.disabled = true;  // To prevent multiple clicks.\n",
              "      quickchartButtonEl.classList.add('colab-df-spinner');\n",
              "      try {\n",
              "        const charts = await google.colab.kernel.invokeFunction(\n",
              "            'suggestCharts', [key], {});\n",
              "      } catch (error) {\n",
              "        console.error('Error during call to suggestCharts:', error);\n",
              "      }\n",
              "      quickchartButtonEl.classList.remove('colab-df-spinner');\n",
              "      quickchartButtonEl.classList.add('colab-df-quickchart-complete');\n",
              "    }\n",
              "    (() => {\n",
              "      let quickchartButtonEl =\n",
              "        document.querySelector('#df-d757eca7-15b7-4180-a71d-d712279deefd button');\n",
              "      quickchartButtonEl.style.display =\n",
              "        google.colab.kernel.accessAllowed ? 'block' : 'none';\n",
              "    })();\n",
              "  </script>\n",
              "</div>\n",
              "\n",
              "  <div id=\"id_cc8508d0-e4ad-47c8-837c-11f0ac09eac1\">\n",
              "    <style>\n",
              "      .colab-df-generate {\n",
              "        background-color: #E8F0FE;\n",
              "        border: none;\n",
              "        border-radius: 50%;\n",
              "        cursor: pointer;\n",
              "        display: none;\n",
              "        fill: #1967D2;\n",
              "        height: 32px;\n",
              "        padding: 0 0 0 0;\n",
              "        width: 32px;\n",
              "      }\n",
              "\n",
              "      .colab-df-generate:hover {\n",
              "        background-color: #E2EBFA;\n",
              "        box-shadow: 0px 1px 2px rgba(60, 64, 67, 0.3), 0px 1px 3px 1px rgba(60, 64, 67, 0.15);\n",
              "        fill: #174EA6;\n",
              "      }\n",
              "\n",
              "      [theme=dark] .colab-df-generate {\n",
              "        background-color: #3B4455;\n",
              "        fill: #D2E3FC;\n",
              "      }\n",
              "\n",
              "      [theme=dark] .colab-df-generate:hover {\n",
              "        background-color: #434B5C;\n",
              "        box-shadow: 0px 1px 3px 1px rgba(0, 0, 0, 0.15);\n",
              "        filter: drop-shadow(0px 1px 2px rgba(0, 0, 0, 0.3));\n",
              "        fill: #FFFFFF;\n",
              "      }\n",
              "    </style>\n",
              "    <button class=\"colab-df-generate\" onclick=\"generateWithVariable('adjacency')\"\n",
              "            title=\"Generate code using this dataframe.\"\n",
              "            style=\"display:none;\">\n",
              "\n",
              "  <svg xmlns=\"http://www.w3.org/2000/svg\" height=\"24px\"viewBox=\"0 0 24 24\"\n",
              "       width=\"24px\">\n",
              "    <path d=\"M7,19H8.4L18.45,9,17,7.55,7,17.6ZM5,21V16.75L18.45,3.32a2,2,0,0,1,2.83,0l1.4,1.43a1.91,1.91,0,0,1,.58,1.4,1.91,1.91,0,0,1-.58,1.4L9.25,21ZM18.45,9,17,7.55Zm-12,3A5.31,5.31,0,0,0,4.9,8.1,5.31,5.31,0,0,0,1,6.5,5.31,5.31,0,0,0,4.9,4.9,5.31,5.31,0,0,0,6.5,1,5.31,5.31,0,0,0,8.1,4.9,5.31,5.31,0,0,0,12,6.5,5.46,5.46,0,0,0,6.5,12Z\"/>\n",
              "  </svg>\n",
              "    </button>\n",
              "    <script>\n",
              "      (() => {\n",
              "      const buttonEl =\n",
              "        document.querySelector('#id_cc8508d0-e4ad-47c8-837c-11f0ac09eac1 button.colab-df-generate');\n",
              "      buttonEl.style.display =\n",
              "        google.colab.kernel.accessAllowed ? 'block' : 'none';\n",
              "\n",
              "      buttonEl.onclick = () => {\n",
              "        google.colab.notebook.generateWithVariable('adjacency');\n",
              "      }\n",
              "      })();\n",
              "    </script>\n",
              "  </div>\n",
              "\n",
              "    </div>\n",
              "  </div>\n"
            ],
            "application/vnd.google.colaboratory.intrinsic+json": {
              "type": "dataframe",
              "variable_name": "adjacency"
            }
          },
          "metadata": {},
          "execution_count": 51
        }
      ],
      "source": [
        "adjacency"
      ]
    },
    {
      "cell_type": "code",
      "execution_count": 52,
      "metadata": {
        "id": "4g5C3EdMLgh0"
      },
      "outputs": [],
      "source": [
        "import networkx as nx\n",
        "\n",
        "# Running TextRank\n",
        "nx_words = nx.from_numpy_array(adjacency.values)\n",
        "ranks=nx.pagerank(nx_words, alpha=.85, tol=.00000001)\n",
        "\n",
        "# Identifying the most highly ranked keywords\n",
        "ranked = sorted(((ranks[i],s) for i,s in enumerate(kw_filts_unique)),\n",
        "                reverse=True)"
      ]
    },
    {
      "cell_type": "code",
      "execution_count": 53,
      "metadata": {
        "id": "E0tfgkwlLgh0",
        "outputId": "ea23de17-1a5e-4c8b-e3d1-47c65c8effce",
        "colab": {
          "base_uri": "https://localhost:8080/"
        }
      },
      "outputs": [
        {
          "output_type": "execute_result",
          "data": {
            "text/plain": [
              "[(0.037609186989229826, 'beef'),\n",
              " (0.03715009371579529, 'c'),\n",
              " (0.029782201068221395, 'tsp'),\n",
              " (0.026229891817769198, 'can'),\n",
              " (0.025657761438126415, 'pepper'),\n",
              " (0.023372548068052747, 'salt'),\n",
              " (0.022514176665592193, 'ground'),\n",
              " (0.022264851913118396, 'onion'),\n",
              " (0.020886748803119002, 'oz'),\n",
              " (0.018166636746824467, 'sauce'),\n",
              " (0.01520719889733808, 'water'),\n",
              " (0.014899333684813, 'cheese'),\n",
              " (0.014298241703980974, 'meat'),\n",
              " (0.013279390752534021, 'minutes'),\n",
              " (0.012873719896738245, 'tomato'),\n",
              " (0.012337059056518622, 'soup'),\n",
              " (0.009962383444999879, 'onions'),\n",
              " (0.009581578417836441, 'garlic'),\n",
              " (0.008930940963138845, 'tomatoes'),\n",
              " (0.008788648125063667, 'medium'),\n",
              " (0.008625077662526693, 'cans'),\n",
              " (0.008452656211318807, 'brown'),\n",
              " (0.00839272953991422, 'skillet'),\n",
              " (0.008375603646665954, 'mix'),\n",
              " (0.008026706312643303, 'mixture')]"
            ]
          },
          "metadata": {},
          "execution_count": 53
        }
      ],
      "source": [
        "ranked[:25]"
      ]
    },
    {
      "cell_type": "code",
      "execution_count": 54,
      "metadata": {
        "id": "_pEv7LBLLgh1",
        "outputId": "579f3983-3842-4c40-ec05-bda00a2b284d",
        "colab": {
          "base_uri": "https://localhost:8080/"
        }
      },
      "outputs": [
        {
          "output_type": "execute_result",
          "data": {
            "text/plain": [
              "(305, 305)"
            ]
          },
          "metadata": {},
          "execution_count": 54
        }
      ],
      "source": [
        "adjacency.shape"
      ]
    },
    {
      "cell_type": "code",
      "execution_count": 55,
      "metadata": {
        "id": "S0wc3U0CLgh1",
        "outputId": "616e9e68-e572-4e84-c369-27f066f83384",
        "colab": {
          "base_uri": "https://localhost:8080/"
        }
      },
      "outputs": [
        {
          "output_type": "execute_result",
          "data": {
            "text/plain": [
              "<305x305 sparse matrix of type '<class 'numpy.int64'>'\n",
              "\twith 3381 stored elements in Compressed Sparse Row format>"
            ]
          },
          "metadata": {},
          "execution_count": 55
        }
      ],
      "source": [
        "# checking to see there are actual values loaded in the adjacency df\n",
        "import scipy\n",
        "scipy.sparse.csr_matrix(adjacency.copy().values)"
      ]
    },
    {
      "cell_type": "code",
      "execution_count": 56,
      "metadata": {
        "id": "wkx4LSH0Lgh1",
        "outputId": "fd2ca57e-c1c5-4b89-bf2d-8165832c5eae",
        "colab": {
          "base_uri": "https://localhost:8080/"
        }
      },
      "outputs": [
        {
          "output_type": "execute_result",
          "data": {
            "text/plain": [
              "305"
            ]
          },
          "metadata": {},
          "execution_count": 56
        }
      ],
      "source": [
        "len(kw_filts_unique)"
      ]
    },
    {
      "cell_type": "code",
      "execution_count": 57,
      "metadata": {
        "id": "XQ_VLRo-Lgh1",
        "outputId": "840015be-99ba-4df4-b912-063c484afb91",
        "colab": {
          "base_uri": "https://localhost:8080/"
        }
      },
      "outputs": [
        {
          "output_type": "execute_result",
          "data": {
            "text/plain": [
              "305"
            ]
          },
          "metadata": {},
          "execution_count": 57
        }
      ],
      "source": [
        "pd.Series(list(kw_filts_unique)).nunique()"
      ]
    },
    {
      "cell_type": "code",
      "execution_count": 58,
      "metadata": {
        "id": "3R_vF9TULgh1",
        "outputId": "cc4fbb8e-1917-4c46-e27f-f9d6a09459e7",
        "colab": {
          "base_uri": "https://localhost:8080/",
          "height": 458
        }
      },
      "outputs": [
        {
          "output_type": "execute_result",
          "data": {
            "text/plain": [
              "8859    Ground Beef Casserole pkg noodles lb cheese ca...\n",
              "6765    Quick Beef Stroganoff lb ground beef pt sour c...\n",
              "8019    Mile High Barbecue Beef lb chuck roast or roun...\n",
              "6771    Hasty Hamburger Heaven lb ground beef c fine n...\n",
              "8166    Beef Burgers Tbsp fat lb ground beef c chopped...\n",
              "                              ...                        \n",
              "4612    Creamed Chipped Beef lb chipped beef shredded ...\n",
              "7638    PattyS Taste N StuffGround Beef And Macaroni C...\n",
              "5401    Beef Stew lb cubed boneless beef for stew tsp ...\n",
              "5479    Foolproof Beef And Broccoli lb boneless beef s...\n",
              "8215    Saucy Beef c water Tbsp currant jelly Tbsp lem...\n",
              "Length: 100, dtype: object"
            ],
            "text/html": [
              "<div>\n",
              "<style scoped>\n",
              "    .dataframe tbody tr th:only-of-type {\n",
              "        vertical-align: middle;\n",
              "    }\n",
              "\n",
              "    .dataframe tbody tr th {\n",
              "        vertical-align: top;\n",
              "    }\n",
              "\n",
              "    .dataframe thead th {\n",
              "        text-align: right;\n",
              "    }\n",
              "</style>\n",
              "<table border=\"1\" class=\"dataframe\">\n",
              "  <thead>\n",
              "    <tr style=\"text-align: right;\">\n",
              "      <th></th>\n",
              "      <th>0</th>\n",
              "    </tr>\n",
              "  </thead>\n",
              "  <tbody>\n",
              "    <tr>\n",
              "      <th>8859</th>\n",
              "      <td>Ground Beef Casserole pkg noodles lb cheese ca...</td>\n",
              "    </tr>\n",
              "    <tr>\n",
              "      <th>6765</th>\n",
              "      <td>Quick Beef Stroganoff lb ground beef pt sour c...</td>\n",
              "    </tr>\n",
              "    <tr>\n",
              "      <th>8019</th>\n",
              "      <td>Mile High Barbecue Beef lb chuck roast or roun...</td>\n",
              "    </tr>\n",
              "    <tr>\n",
              "      <th>6771</th>\n",
              "      <td>Hasty Hamburger Heaven lb ground beef c fine n...</td>\n",
              "    </tr>\n",
              "    <tr>\n",
              "      <th>8166</th>\n",
              "      <td>Beef Burgers Tbsp fat lb ground beef c chopped...</td>\n",
              "    </tr>\n",
              "    <tr>\n",
              "      <th>...</th>\n",
              "      <td>...</td>\n",
              "    </tr>\n",
              "    <tr>\n",
              "      <th>4612</th>\n",
              "      <td>Creamed Chipped Beef lb chipped beef shredded ...</td>\n",
              "    </tr>\n",
              "    <tr>\n",
              "      <th>7638</th>\n",
              "      <td>PattyS Taste N StuffGround Beef And Macaroni C...</td>\n",
              "    </tr>\n",
              "    <tr>\n",
              "      <th>5401</th>\n",
              "      <td>Beef Stew lb cubed boneless beef for stew tsp ...</td>\n",
              "    </tr>\n",
              "    <tr>\n",
              "      <th>5479</th>\n",
              "      <td>Foolproof Beef And Broccoli lb boneless beef s...</td>\n",
              "    </tr>\n",
              "    <tr>\n",
              "      <th>8215</th>\n",
              "      <td>Saucy Beef c water Tbsp currant jelly Tbsp lem...</td>\n",
              "    </tr>\n",
              "  </tbody>\n",
              "</table>\n",
              "<p>100 rows × 1 columns</p>\n",
              "</div><br><label><b>dtype:</b> object</label>"
            ]
          },
          "metadata": {},
          "execution_count": 58
        }
      ],
      "source": [
        "text_4summary"
      ]
    },
    {
      "cell_type": "markdown",
      "metadata": {
        "id": "GJ_CwKAHLgh2"
      },
      "source": [
        "### Analyzing Score distribution of document and word ranks within Topics"
      ]
    },
    {
      "cell_type": "code",
      "execution_count": 59,
      "metadata": {
        "id": "rgKV7S5mLgh2"
      },
      "outputs": [],
      "source": [
        "import matplotlib.pyplot as plt\n",
        "# text_lda\n",
        "# text_nmf\n",
        "# ranked"
      ]
    },
    {
      "cell_type": "code",
      "execution_count": 60,
      "metadata": {
        "id": "XEGErYOlLgh2",
        "outputId": "79bfd35c-6030-476c-9919-9852bc184d1f",
        "colab": {
          "base_uri": "https://localhost:8080/",
          "height": 391
        }
      },
      "outputs": [
        {
          "output_type": "display_data",
          "data": {
            "text/plain": [
              "<Figure size 1500x400 with 3 Axes>"
            ],
            "image/png": "[encoded data removed]"
          },
          "metadata": {}
        }
      ],
      "source": [
        "# LDA Topic documents for topics 0-2\n",
        "plt.figure(figsize=(15,4))\n",
        "for i in range(3):\n",
        "    series = pd.Series(text_lda[:,i])\n",
        "    plt.subplot(1,3,i+1)\n",
        "    plt.hist(series[series > 0.05])\n",
        "    plt.title('LDA Topic #{} Doc Score Dist (>0.05)'.format(i+1))\n",
        "plt.show()"
      ]
    },
    {
      "cell_type": "code",
      "execution_count": 61,
      "metadata": {
        "id": "jRP8vY3OLgh3",
        "outputId": "f61edc58-35b9-4bb3-df68-d2afa3ea6ff9",
        "colab": {
          "base_uri": "https://localhost:8080/",
          "height": 410
        }
      },
      "outputs": [
        {
          "output_type": "display_data",
          "data": {
            "text/plain": [
              "<Figure size 1500x400 with 3 Axes>"
            ],
            "image/png": "[encoded data removed]"
          },
          "metadata": {}
        }
      ],
      "source": [
        "# NNMF Topic documents for topics 0-2\n",
        "plt.figure(figsize=(15,4))\n",
        "for i in range(3):\n",
        "    series = pd.Series(text_nmf[:,i])\n",
        "    plt.subplot(1,3,i+1)\n",
        "    plt.hist(series[series > 0.004])\n",
        "    plt.title('NNMF Topic #{} Document Score Dist (>0.004)'.format(i+1))\n",
        "    plt.xlabel('Document Topic Score')\n",
        "#plt.savefig('DocsByTop_Score_Distributions.png', transparent = True)\n",
        "plt.show()"
      ]
    },
    {
      "cell_type": "code",
      "execution_count": 62,
      "metadata": {
        "id": "7tkKqZVxLgh3",
        "outputId": "0aaa94ed-6439-4072-f585-886ad3059e15",
        "colab": {
          "base_uri": "https://localhost:8080/",
          "height": 391
        }
      },
      "outputs": [
        {
          "output_type": "display_data",
          "data": {
            "text/plain": [
              "<Figure size 1500x400 with 3 Axes>"
            ],
            "image/png": "[encoded data removed]"
          },
          "metadata": {}
        }
      ],
      "source": [
        "# LDA Topic document scores for topics 0-2\n",
        "plt.figure(figsize=(15,4))\n",
        "for i in range(3):\n",
        "    series = pd.Series(text_lda[:,i]).copy().sort_values(ascending = False).reset_index(drop = True)\n",
        "    plt.subplot(1,3,i+1)\n",
        "    plt.plot(series[:1000])\n",
        "    plt.title('LDA Topic #{} Ordered Score Plot'.format(i+1))\n",
        "plt.show()"
      ]
    },
    {
      "cell_type": "code",
      "execution_count": 63,
      "metadata": {
        "id": "6QCUhHWoLgh3",
        "outputId": "08e07256-cee9-461e-b92a-11aacd0d4c0e",
        "colab": {
          "base_uri": "https://localhost:8080/",
          "height": 410
        }
      },
      "outputs": [
        {
          "output_type": "display_data",
          "data": {
            "text/plain": [
              "<Figure size 1500x400 with 3 Axes>"
            ],
            "image/png": "[encoded data removed]"
          },
          "metadata": {}
        }
      ],
      "source": [
        "# NMF Topic document scores for topics 0-2\n",
        "plt.figure(figsize=(15,4))\n",
        "for i in range(3):\n",
        "    series = pd.Series(text_nmf[:,i]).copy().sort_values(ascending = False).reset_index(drop = True)\n",
        "    plt.subplot(1,3,i+1)\n",
        "    plt.plot(series[:1000])\n",
        "    plt.title('NMF Topic #{} Ordered Score Plot'.format(i+1))\n",
        "    plt.xlabel('Document Rank')\n",
        "    plt.ylabel('Document Topic Score')\n",
        "#plt.savefig('DocsByTop_Score_Elbows.png', transparent = True)\n",
        "plt.show()"
      ]
    },
    {
      "cell_type": "markdown",
      "metadata": {
        "id": "sp8Dbt5WLgh6"
      },
      "source": [
        "### Querying Algorithm"
      ]
    },
    {
      "cell_type": "code",
      "execution_count": 64,
      "metadata": {
        "id": "klwVGRb_Lgh6",
        "outputId": "07e0b798-ce18-4a15-d38b-c694f4ac4941",
        "colab": {
          "base_uri": "https://localhost:8080/"
        }
      },
      "outputs": [
        {
          "output_type": "execute_result",
          "data": {
            "text/plain": [
              "Index(['title', 'ingredients', 'picture_link', 'instructions',\n",
              "       'ingredient_text', 'ingredient_count'],\n",
              "      dtype='object')"
            ]
          },
          "metadata": {},
          "execution_count": 64
        }
      ],
      "source": [
        "recipes.columns"
      ]
    },
    {
      "cell_type": "code",
      "execution_count": 65,
      "metadata": {
        "id": "zYNareazLgh6"
      },
      "outputs": [],
      "source": [
        "# Creating TF-IDF Matrices and recalling text dependencies\n",
        "\n",
        "'''import text_tokenized.csv here'''\n",
        "\n",
        "# TF-IDF vectorizer instance\n",
        "vectorizer = TfidfVectorizer(lowercase = True, ngram_range = (1,1))\n",
        "\n",
        "text_tfidf = vectorizer.fit_transform(tokenized_text)\n",
        "title_tfidf = vectorizer.transform(recipes['title'])\n",
        "# text_tfidf    <== Variable with recipe ingredients and instructions\n",
        "# tags_tfidf = vectorizer.transform(recipes['tags'])\n",
        "# recipes   <== DataFrame; For indexing and printing recipes\n",
        "\n",
        "# Query Similarity Weights\n",
        "w_title = .2\n",
        "w_text = .3\n",
        "w_categories = .5\n"
      ]
    },
    {
      "cell_type": "code",
      "execution_count": 66,
      "metadata": {
        "id": "YLR98k9iLgh7"
      },
      "outputs": [],
      "source": [
        "def qweight_array(query_length, qw_array = [1]):\n",
        "    '''Returns descending weights for ranked query ingredients'''\n",
        "    if query_length > 1:\n",
        "        to_split = qw_array.pop()\n",
        "        split = to_split/2\n",
        "        qw_array.extend([split, split])\n",
        "        return qweight_array(query_length - 1, qw_array)\n",
        "    else:\n",
        "        return np.array(qw_array)\n",
        "\n",
        "def ranked_query(query):\n",
        "    '''Called if query ingredients are ranked in order of importance.\n",
        "    Weights and adds each ranked query ingredient vector.'''\n",
        "    query = [[q] for q in query]      # place words in seperate documents\n",
        "    q_vecs = [vectorizer.transform(q) for q in query]\n",
        "    qw_array = qweight_array(len(query),[1])\n",
        "    q_weighted_vecs = q_vecs * qw_array\n",
        "    q_final_vector = np.add.reduce(q_weighted_vecs)\n",
        "    return q_final_vector\n",
        "\n",
        "def overall_scores(query_vector):\n",
        "    '''Calculates Query Similarity Scores against recipe title, instructions, and keywords.\n",
        "    Then returns weighted averages of similarities for each recipe.'''\n",
        "    final_scores = title_tfidf*query_vector.T*w_title\n",
        "    final_scores += text_tfidf*query_vector.T*w_text\n",
        "    # final_scores += tags_tfidf*query_vector.T*w_categories\n",
        "    return final_scores\n",
        "\n",
        "def print_recipes(index, query, recipe_range):\n",
        "    '''Prints recipes according to query similary ranks'''\n",
        "    print('Search Query: {}\\n'.format(query))\n",
        "    for i, index in enumerate(index, recipe_range[0]):\n",
        "        print('Recipe Rank: {}\\t'.format(i+1),recipes.loc[index, 'title'],'\\n')\n",
        "        print('Ingredients:\\n{}\\n '.format(recipes.loc[index, 'ingredient_text']))\n",
        "        print('Instructions:\\n{}\\n'.format(recipes.loc[index, 'instructions']))\n",
        "\n",
        "def Search_Recipes(query, query_ranked=False, recipe_range=(0,3)):\n",
        "    '''Master Recipe Search Function'''\n",
        "    if query_ranked == True:\n",
        "        q_vector = ranked_query(query)\n",
        "    else:\n",
        "        q_vector = vectorizer.transform([' '.join(query)])\n",
        "    recipe_scores = overall_scores(q_vector)\n",
        "    sorted_index = pd.Series(recipe_scores.toarray().T[0]).sort_values(ascending = False)[recipe_range[0]:recipe_range[1]].index\n",
        "    return print_recipes(sorted_index, query, recipe_range)\n"
      ]
    },
    {
      "cell_type": "markdown",
      "metadata": {
        "id": "qhWGfpk3Lgh7"
      },
      "source": [
        "### Testing the Algorithm"
      ]
    },
    {
      "cell_type": "code",
      "execution_count": 67,
      "metadata": {
        "id": "F1s06YHKLgh7",
        "outputId": "06d3ded6-17e1-4750-f5e0-ba541ea08823",
        "colab": {
          "base_uri": "https://localhost:8080/"
        }
      },
      "outputs": [
        {
          "output_type": "stream",
          "name": "stdout",
          "text": [
            "Search Query: ['cinnamon', 'cream', 'banana']\n",
            "\n",
            "Recipe Rank: 1\t Cinnamon Bread \n",
            "\n",
            "Ingredients:\n",
            "1/4 c. vegetable oil; 1 egg; 1 c. sugar; 1 tsp. soda; 1 c. buttermilk; 2 c. flour; 1/2 tsp. salt\n",
            " \n",
            "Instructions:\n",
            "Mix and put 1/2 dough in greased pan. Mix 1 tablespoon cinnamon in 1/2 cup sugar. Sprinkle 1/2 of this mixture over dough. Add rest of dough and sprinkle with rest of cinnamon mixture. Run knife through dough. Bake 45 minutes at 375°. Makes 1 loaf.\n",
            "\n",
            "Recipe Rank: 2\t Cinnamon Pecans \n",
            "\n",
            "Ingredients:\n",
            "2 egg whites; 1 lb. pecan halves; 1 c. sugar; 2 to 3 Tbsp. cinnamon; 1/2 tsp. salt\n",
            " \n",
            "Instructions:\n",
            "Beat 2 egg whites until foamy. Add pecan halves; mix until foamy. Set aside.\n",
            "\n",
            "Recipe Rank: 3\t Cinnamon Caramel Rolls \n",
            "\n",
            "Ingredients:\n",
            "2 loaves frozen bread; 1/2 c. butter; 1/2 tsp. cinnamon; 1 c. brown sugar (I use 1/2 c.); 1/2 c. white sugar; 3/4 to 1 c. ice cream\n",
            " \n",
            "Instructions:\n",
            "Thaw bread slightly. Cut in half and then in half again (lengthwise). Cut into cubes and roll in sugar and cinnamon. Put in well-greased 9 x 13-inch pan.\n",
            "\n"
          ]
        }
      ],
      "source": [
        "query = ['cinnamon', 'cream', 'banana']\n",
        "Search_Recipes(query, query_ranked=True, recipe_range=(0,3))"
      ]
    },
    {
      "cell_type": "code",
      "execution_count": 68,
      "metadata": {
        "id": "vF2OoLA5Lgh7",
        "outputId": "f3e714ff-9433-48b0-82ee-ad990469f670",
        "colab": {
          "base_uri": "https://localhost:8080/"
        }
      },
      "outputs": [
        {
          "output_type": "stream",
          "name": "stdout",
          "text": [
            "Search Query: ['wine', 'cilantro', 'butter']\n",
            "\n",
            "Recipe Rank: 1\t Mushroom Wine Sauce \n",
            "\n",
            "Ingredients:\n",
            "2 Tbsp. butter; 2 Tbsp. flour; 1 c. chicken stock; 1/2 c. dry white wine; 1/2 tsp. tarragon; salt and pepper; 4 oz. can mushroom pieces or 1/4 lb. fresh, sliced and sauteed for 5 minutes in butter; 1/2 c. half and half; 1 egg yolk\n",
            " \n",
            "Instructions:\n",
            "Melt butter in saucepan and add flour. Cook, without browning, stirring constantly, for several minutes. Slowly add stock, wine and spices. Simmer several minutes and add mushrooms. Simmer for 5 minutes. Remove from heat and stir in creamed mixed with egg yolk. Cook, stirring, until heated through. Do not let boil. May be made a day ahead and reheated.\n",
            "\n",
            "Recipe Rank: 2\t Wine Biscuits \n",
            "\n",
            "Ingredients:\n",
            "5 c. flour; 2 eggs; 1 c.oil; 1 c. sugar; 1 c. wine; pinch of salt; 4 tsp. baking powder\n",
            " \n",
            "Instructions:\n",
            "Place all ingredients in bowl, mix well and shape in desired shape. Bake at 350° for 15 to 20 minutes.\n",
            "\n",
            "Recipe Rank: 3\t Mulled Wine \n",
            "\n",
            "Ingredients:\n",
            "1 small cinnamon stick, broken into 1-inch pieces; 1/4 tsp. ground cloves; 1/4 tsp. ground nutmeg; 1/4 c. lemon juice; 2/3 c. sugar; 1 qt. dry red wine; 1 c. Port wine\n",
            " \n",
            "Instructions:\n",
            "Combine ingredients. Heat to serving temperature over moderate heat.\n",
            "\n"
          ]
        }
      ],
      "source": [
        "# Test Rank\n",
        "query = ['wine', 'cilantro','butter']\n",
        "Search_Recipes(query, query_ranked=False, recipe_range=(0,3))"
      ]
    },
    {
      "cell_type": "markdown",
      "metadata": {
        "id": "0yLUHc2KLgh7"
      },
      "source": [
        "### -- Conclusions and Model Outlook --\n"
      ]
    },
    {
      "cell_type": "code",
      "execution_count": 69,
      "metadata": {
        "id": "KZTcWqUPLgh8",
        "outputId": "d132248a-ce27-44b7-e7ac-b0d10ba7110f",
        "colab": {
          "base_uri": "https://localhost:8080/"
        }
      },
      "outputs": [
        {
          "output_type": "stream",
          "name": "stdout",
          "text": [
            "Search Query: ['jelly', 'wine']\n",
            "\n",
            "Recipe Rank: 1\t Pepper Jelly \n",
            "\n",
            "Ingredients:\n",
            "1/4 c. ground hot peppers; 3/4 c. ground bell pepper; 1 1/2 c. cider vinegar; 1 bottle Certo; 6 c. sugar\n",
            " \n",
            "Instructions:\n",
            "Boil until sugar dissolves. Let stand 4 minutes; stir in Certo and put in jars. (Turn jars upside down occasionally so that peppers will be evenly distributed throughout jelly when it jells.)\n",
            "\n",
            "Recipe Rank: 2\t Jelly Roll \n",
            "\n",
            "Ingredients:\n",
            "1 c. flour; 1 tsp. baking powder; 1/4 tsp. salt; 3 large eggs (2/3 c.); 1 c. sugar; 1/3 c. water; 1 tsp. vanilla\n",
            " \n",
            "Instructions:\n",
            "Preheat oven to 375°. Grease jelly roll pan and line with aluminum foil. Blend flour, baking powder and salt. Set aside. Beat eggs in small bowl until thick and lemon colored. Pour eggs into large bowl. Gradually beat in sugar. Blend in water and vanilla on low speed. Slowly mix in dry ingredients until batter is smooth. Pour into pan. Bake 12 to 15 minutes. Loosen edges and turn upside-down on towel sprinkled with confectioners sugar. Remove paper. Trim off stiff edges. While hot, roll cake and towel from narrow end. Cool, unroll, spread with jelly and roll again.\n",
            "\n",
            "Recipe Rank: 3\t Beet Jelly \n",
            "\n",
            "Ingredients:\n",
            "6 c. beet jelly; 2 pkg. Sure-Jell; 8 c. sugar; 1 large raspberry Jell-O; 1/2 c. lemon juice\n",
            " \n",
            "Instructions:\n",
            "Bring jelly and Sure-Jell to a hard boil. Add sugar, Jell-O and lemon juice. Boil 8 minutes.\n",
            "\n"
          ]
        }
      ],
      "source": [
        "# Test\n",
        "query = ['jelly','wine']\n",
        "Search_Recipes(query, query_ranked=False, recipe_range=(0,3))"
      ]
    },
    {
      "cell_type": "code",
      "execution_count": 70,
      "metadata": {
        "id": "yOlnuJhaLgh8",
        "outputId": "3a3c8e60-6e5f-4390-a18c-75ead07889c3",
        "colab": {
          "base_uri": "https://localhost:8080/"
        }
      },
      "outputs": [
        {
          "output_type": "stream",
          "name": "stdout",
          "text": [
            "Search Query: ['pepper', 'apple', 'pork']\n",
            "\n",
            "Recipe Rank: 1\t Apple Butter \n",
            "\n",
            "Ingredients:\n",
            "4 lb. apples; 1 c. apple juice or cider; 2 c. sugar; 1 tsp. cinnamon; 1/2 tsp. nutmeg; 1/2 tsp. ground cloves\n",
            " \n",
            "Instructions:\n",
            "Wash and core apples; cut in 8ths. Put 1/3 cup cider or apple juice and 5 or 6 pieces of apple into blender. Cover and process until smooth. Increase speed to blender. Remove cap and add apple pieces until container is full. Empty into saucepan. Repeat with remaining cider and apples. Add sugar and spices to apples. Cook over low heat about 45 minutes, stirring slightly. Pour into jars. Process 10 minutes in boiling water.\n",
            "\n",
            "Recipe Rank: 2\t Baked Pork Tenderloin \n",
            "\n",
            "Ingredients:\n",
            "3 lb. pork tenderloin roast; 1 tsp. salt; 1/2 tsp. pepper; 6 slices bacon; 2 c. apple juice; 1/2 tsp. cinnamon; 1/2 tsp. cloves\n",
            " \n",
            "Instructions:\n",
            "Preheat oven to 325°. Place pork roast in shallow roasting pan; sprinkle with salt and pepper. Arrange bacon on pork. In small saucepan combine apple juice, cinnamon and cloves; bring to boil. Remove from heat; brush pork with spiced apple juice. Bake for 1 1/2 to 2 hours or until tender, basting frequently with spiced apple juice.\n",
            "\n",
            "Recipe Rank: 3\t Pork Chop Casserole \n",
            "\n",
            "Ingredients:\n",
            "5 to 6 pork chops; 1 (20 oz.) can pork and beans or baked beans; 1 c. chili sauce; 1 Tbsp. brown sugar; 1 tsp. Worcestershire sauce; green pepper rings\n",
            " \n",
            "Instructions:\n",
            "Trim excess fat from pork chops. Brown in frying pan thoroughly on both sides. Salt and pepper to taste. Place in a deep baking dish. Mix baked beans, chili sauce, brown sugar and Worcestershire sauce. Pour over pork chops and top with pepper rings. Bake at 375° for 1 hour.\n",
            "\n"
          ]
        }
      ],
      "source": [
        "query = ['pepper','apple','pork']\n",
        "Search_Recipes(query, query_ranked=False, recipe_range=(0,3))"
      ]
    },
    {
      "cell_type": "code",
      "execution_count": 71,
      "metadata": {
        "id": "PHzNjgDnLgh9",
        "outputId": "6d12cf94-0666-47d5-a567-a4f2c901dff1",
        "colab": {
          "base_uri": "https://localhost:8080/"
        }
      },
      "outputs": [
        {
          "output_type": "stream",
          "name": "stdout",
          "text": [
            "Search Query: ['cream', 'banana', 'cinnamon']\n",
            "\n",
            "Recipe Rank: 1\t Banana Bread \n",
            "\n",
            "Ingredients:\n",
            "1 stick margarine; 1 c. sugar; 2 eggs; 3 large bananas; 1/2 c. chopped nuts; 2 c. flour; 1 tsp. soda; 1/8 tsp. salt; 1 Tbsp. buttermilk\n",
            " \n",
            "Instructions:\n",
            "Mix all together. Bake at 250° for 1 1/2 hours.\n",
            "\n",
            "Recipe Rank: 2\t Banana Bread \n",
            "\n",
            "Ingredients:\n",
            "1/4 c. oleo; 1 c. sugar; 2 eggs; 2 or 3 bananas; 2 c. plain flour; 1 tsp. vanilla; 1 tsp. soda; 1/2 c. nuts, chopped\n",
            " \n",
            "Instructions:\n",
            "Cream oleo and sugar. Add flavoring and well beaten eggs. Add mashed bananas. Sift flour and soda. Add to mixture. Fold in nuts! Serve with cream cheese. Bake at 300° for 45 minutes.\n",
            "\n",
            "Recipe Rank: 3\t Banana Cake \n",
            "\n",
            "Ingredients:\n",
            "1 1/2 c. sugar; 1/2 c. shortening; 2 eggs; 2 1/2 c. all-purpose flour; 4 large bananas (ripe); 4 Tbsp. sour milk (sour cream is better); 1 tsp. soda; 1 heaping tsp. baking powder\n",
            " \n",
            "Instructions:\n",
            "Mash bananas in a bowl and add sour milk or cream. Sprinkle soda over this. Cream sugar, shortening and eggs. Alternate banana mixture with flour and blend thoroughly. Bake at 350° for 30 to 40 minutes for a 13 x 9-inch pan. Grease and flour cake pans. This makes 2 large layers or 1 good size loaf cake also.\n",
            "\n"
          ]
        }
      ],
      "source": [
        "### No Category Weight\n",
        "query = ['cream','banana','cinnamon']\n",
        "Search_Recipes(query, query_ranked=False, recipe_range=(0,3))"
      ]
    },
    {
      "cell_type": "code",
      "execution_count": 72,
      "metadata": {
        "id": "YvTo1yikLgh9",
        "outputId": "56bf44d3-b01c-4cab-ad31-7367cfcbc7d0",
        "colab": {
          "base_uri": "https://localhost:8080/"
        }
      },
      "outputs": [
        {
          "output_type": "stream",
          "name": "stdout",
          "text": [
            "Search Query: []\n",
            "\n",
            "Recipe Rank: 1\t No-Bake Nut Cookies \n",
            "\n",
            "Ingredients:\n",
            "1 c. firmly packed brown sugar; 1/2 c. evaporated milk; 1/2 tsp. vanilla; 1/2 c. broken nuts (pecans); 2 Tbsp. butter or margarine; 3 1/2 c. bite size shredded rice biscuits\n",
            " \n",
            "Instructions:\n",
            "In a heavy 2-quart saucepan, mix brown sugar, nuts, evaporated milk and butter or margarine. Stir over medium heat until mixture bubbles all over top. Boil and stir 5 minutes more. Take off heat. Stir in vanilla and cereal; mix well. Using 2 teaspoons, drop and shape into 30 clusters on wax paper. Let stand until firm, about 30 minutes.\n",
            "\n",
            "Recipe Rank: 2\t Beef Enchiladas \n",
            "\n",
            "Ingredients:\n",
            "1 lb. ground beef; 1 1/2 c. grated Cheddar cheese; 1/2 c. chopped onion; 1 can cream of mushroom soup; 1 can tomato soup; 1 (10 oz.) mild enchilada sauce; 12 flour tortillas; 1 pkg. taco seasoning\n",
            " \n",
            "Instructions:\n",
            "Brown ground beef and drain. Add onion and taco seasoning according to package directions. Add 1/2 cup grated cheese to meat and onion mixture. Set aside. Combine soups and enchilada sauce. Top each tortilla with 1 heaping tablespoonful of meat mixture. Place, seam side down, in a 9 x 13-inch baking dish. Pour sauce over tortillas and top with remaining cheese. Bake in preheated 350° oven for 25 to 30 minutes.\n",
            "\n",
            "Recipe Rank: 3\t Porcupine Balls(With Minute Rice)   \n",
            "\n",
            "Ingredients:\n",
            "1 c. Minute Rice; 1 lb. ground beef; 1/4 c. diced onion; 1/4 can tomato soup; 1/4 c. diced celery; salt and pepper to taste; 1 egg\n",
            " \n",
            "Instructions:\n",
            "Mix well all ingredients. Form into balls. Brown on all sides. Mix remaining soup and 3/4 can water to pan. Bake in oven at 250° for 1 to 1 1/2 hours.\n",
            "\n"
          ]
        }
      ],
      "source": [
        "### Empty Query\n",
        "query = []\n",
        "Search_Recipes(query, query_ranked=False, recipe_range=(0,3))"
      ]
    },
    {
      "cell_type": "code",
      "execution_count": 73,
      "metadata": {
        "id": "vBTHC6nxLgh9",
        "outputId": "914e5952-88ba-4ae1-dac7-a44367ddd47e",
        "colab": {
          "base_uri": "https://localhost:8080/"
        }
      },
      "outputs": [
        {
          "output_type": "stream",
          "name": "stdout",
          "text": [
            "Search Query: ['apple', 'blueberry']\n",
            "\n",
            "Recipe Rank: 1\t Blueberry Coffee Cake \n",
            "\n",
            "Ingredients:\n",
            "3/4 c. sugar; 1/4 c. Crisco; 1 egg; 1/2 c. milk; 2 c. flour; 2 tsp. baking powder; 1/2 tsp. salt; 2 c. drained blueberries\n",
            " \n",
            "Instructions:\n",
            "Mix the first 7 ingredients first, then add blueberries; stir by hand. Bake at 375° for 45 to 50 minutes.\n",
            "\n",
            "Recipe Rank: 2\t Blueberry Muffins \n",
            "\n",
            "Ingredients:\n",
            "1/4 c. shortening; 1/2 c. sugar; 1/2 tsp. baking powder; 1/2 c. flour; 1/2 c. milk; 1 egg; 1/2 tsp. salt; 1 c. blueberries\n",
            " \n",
            "Instructions:\n",
            "Combine all ingredients, except the blueberries, and mix well. Stir in berries. Pour in muffin cup pan. Bake at 375° for 20 to 25 minutes.\n",
            "\n",
            "Recipe Rank: 3\t Blueberry Sauce \n",
            "\n",
            "Ingredients:\n",
            "1 qt. grape juice; 2 to 4 Tbsp. arrowroot powder or cornstarch; 2 c. frozen blueberries\n",
            " \n",
            "Instructions:\n",
            "Heat juice and arrowroot powder until thickened. Stir in blueberries and serve over toast or waffles.\n",
            "\n"
          ]
        }
      ],
      "source": [
        "### Only Category Weight\n",
        "query = ['apple','blueberry']\n",
        "Search_Recipes(query, query_ranked=False, recipe_range=(0,3))"
      ]
    },
    {
      "cell_type": "code",
      "execution_count": 74,
      "metadata": {
        "id": "k2UFmnRPLgh9",
        "outputId": "4ebf6d45-0735-4f26-f1ca-ffbb4cde0704",
        "colab": {
          "base_uri": "https://localhost:8080/"
        }
      },
      "outputs": [
        {
          "output_type": "stream",
          "name": "stdout",
          "text": [
            "Search Query: ['japanese']\n",
            "\n",
            "Recipe Rank: 1\t Japanese Fruit Pie \n",
            "\n",
            "Ingredients:\n",
            "1 c. sugar; 3 eggs; 1 Tbsp. lemon juice; 1 stick butter, melted; 1/2 c. raisins; 1/2 c. pecans; 1/2 c. coconut\n",
            " \n",
            "Instructions:\n",
            "Mix well and pour into unbaked pie shell. Bake at 325° for 40 minutes.\n",
            "\n",
            "Recipe Rank: 2\t Japanese Fruit Pie \n",
            "\n",
            "Ingredients:\n",
            "2 eggs; 1 stick melted margarine; 1 c. sugar; 1/2 c. raisins; 1/2 c. chopped pecans; 1/2 c. coconut; pinch of salt; 1 Tbsp. vinegar\n",
            " \n",
            "Instructions:\n",
            "Combine ingredients and pour into unbaked pie shell. Bake at 350° for 40 minutes.\n",
            "\n",
            "Recipe Rank: 3\t Japanese Fruit Pie \n",
            "\n",
            "Ingredients:\n",
            "1 c. white sugar; 2 eggs; 1 stick margarine, melted; 1/2 c. flaked coconut; 1/2 c. pecans; 1/2 c. raisins; 1 Tbsp. vinegar\n",
            " \n",
            "Instructions:\n",
            "Mix all ingredients together in order given. Pour into unbaked 9-inch pie shell\tand bake at 300° for 30 to 40 minutes.\n",
            "\n"
          ]
        }
      ],
      "source": [
        "### Only Category Weight\n",
        "query = ['japanese']\n",
        "Search_Recipes(query, query_ranked=False, recipe_range=(0,3))"
      ]
    },
    {
      "cell_type": "code",
      "source": [
        "pip install streamlit -q"
      ],
      "metadata": {
        "id": "HRjEw3h_CXnd",
        "colab": {
          "base_uri": "https://localhost:8080/"
        },
        "outputId": "e552ac32-10b0-4fc7-90c4-4b7896388432"
      },
      "execution_count": 75,
      "outputs": [
        {
          "output_type": "stream",
          "name": "stdout",
          "text": [
            "\u001b[2K     \u001b[90m━━━━━━━━━━━━━━━━━━━━━━━━━━━━━━━━━━━━━━━━\u001b[0m \u001b[32m41.9/41.9 kB\u001b[0m \u001b[31m2.3 MB/s\u001b[0m eta \u001b[36m0:00:00\u001b[0m\n",
            "\u001b[2K   \u001b[90m━━━━━━━━━━━━━━━━━━━━━━━━━━━━━━━━━━━━━━━━\u001b[0m \u001b[32m8.7/8.7 MB\u001b[0m \u001b[31m52.3 MB/s\u001b[0m eta \u001b[36m0:00:00\u001b[0m\n",
            "\u001b[2K   \u001b[90m━━━━━━━━━━━━━━━━━━━━━━━━━━━━━━━━━━━━━━━━\u001b[0m \u001b[32m6.9/6.9 MB\u001b[0m \u001b[31m66.8 MB/s\u001b[0m eta \u001b[36m0:00:00\u001b[0m\n",
            "\u001b[2K   \u001b[90m━━━━━━━━━━━━━━━━━━━━━━━━━━━━━━━━━━━━━━━━\u001b[0m \u001b[32m79.3/79.3 kB\u001b[0m \u001b[31m5.9 MB/s\u001b[0m eta \u001b[36m0:00:00\u001b[0m\n",
            "\u001b[?25h"
          ]
        }
      ]
    },
    {
      "cell_type": "code",
      "source": [
        "import streamlit as st"
      ],
      "metadata": {
        "id": "Rxo30OxECV0j"
      },
      "execution_count": 76,
      "outputs": []
    },
    {
      "cell_type": "code",
      "source": [
        "! streamlit run recipe_recommendation_system_py.py & npx localtunnel --port 8501"
      ],
      "metadata": {
        "colab": {
          "base_uri": "https://localhost:8080/"
        },
        "id": "DJJeDUY3osc5",
        "outputId": "2cef352d-77dc-4f7a-881a-b963fb9860e1"
      },
      "execution_count": 84,
      "outputs": [
        {
          "output_type": "stream",
          "name": "stdout",
          "text": [
            "\n",
            "Collecting usage statistics. To deactivate, set browser.gatherUsageStats to false.\n",
            "\u001b[0m\n",
            "\u001b[1G\u001b[0JNeed to install the following packages:\n",
            "  localtunnel@2.0.2\n",
            "Ok to proceed? (y) \u001b[20G\u001b[0m\n",
            "\u001b[34m\u001b[1m  You can now view your Streamlit app in your browser.\u001b[0m\n",
            "\u001b[0m\n",
            "\u001b[34m  Local URL: \u001b[0m\u001b[1mhttp://localhost:8501\u001b[0m\n",
            "\u001b[34m  Network URL: \u001b[0m\u001b[1mhttp://172.28.0.12:8501\u001b[0m\n",
            "\u001b[34m  External URL: \u001b[0m\u001b[1mhttp://34.82.8.196:8501\u001b[0m\n",
            "\u001b[0m\n",
            "\u001b[34m  Stopping...\u001b[0m\n",
            "^C\n"
          ]
        }
      ]
    },
    {
      "cell_type": "code",
      "source": [
        "import marshal\n",
        "code_string = marshal.dumps(Search_Recipes.__code__)\n",
        "code_string"
      ],
      "metadata": {
        "id": "yzQiqmU1lQ4h",
        "colab": {
          "base_uri": "https://localhost:8080/"
        },
        "outputId": "5b318d11-eb0d-45e9-877d-6e31eea18f0f"
      },
      "execution_count": 86,
      "outputs": [
        {
          "output_type": "execute_result",
          "data": {
            "text/plain": [
              "b'\\xe3\\x03\\x00\\x00\\x00\\x00\\x00\\x00\\x00\\x00\\x00\\x00\\x00\\x06\\x00\\x00\\x00\\x05\\x00\\x00\\x00C\\x00\\x00\\x00sf\\x00\\x00\\x00|\\x01d\\x01k\\x02r\\tt\\x00|\\x00\\x83\\x01}\\x03n\\tt\\x01\\xa0\\x02d\\x02\\xa0\\x03|\\x00\\xa1\\x01g\\x01\\xa1\\x01}\\x03t\\x04|\\x03\\x83\\x01}\\x04t\\x05\\xa0\\x06|\\x04\\xa0\\x07\\xa1\\x00j\\x08d\\x03\\x19\\x00\\xa1\\x01j\\td\\x04d\\x05\\x8d\\x01|\\x02d\\x03\\x19\\x00|\\x02d\\x06\\x19\\x00\\x85\\x02\\x19\\x00j\\n}\\x05t\\x0b|\\x05|\\x00|\\x02\\x83\\x03S\\x00)\\x07\\xfa\\x1dMaster Recipe Search FunctionT\\xda\\x01 \\xe9\\x00\\x00\\x00\\x00F)\\x01\\xda\\tascending\\xe9\\x01\\x00\\x00\\x00)\\x0c\\xda\\x0cranked_query\\xda\\nvectorizer\\xda\\ttransform\\xda\\x04join\\xda\\x0eoverall_scores\\xda\\x02pd\\xda\\x06Series\\xda\\x07toarray\\xda\\x01T\\xda\\x0bsort_values\\xda\\x05index\\xda\\rprint_recipes)\\x06\\xda\\x05query\\xda\\x0cquery_ranked\\xda\\x0crecipe_range\\xda\\x08q_vector\\xda\\rrecipe_scores\\xda\\x0csorted_index\\xa9\\x00r\\x18\\x00\\x00\\x00\\xfa\\x1f<ipython-input-66-205f2d8d2177>\\xda\\x0eSearch_Recipes%\\x00\\x00\\x00s\\x0c\\x00\\x00\\x00\\x08\\x02\\n\\x01\\x12\\x02\\x08\\x01.\\x01\\x0c\\x01'"
            ]
          },
          "metadata": {},
          "execution_count": 86
        }
      ]
    },
    {
      "cell_type": "code",
      "source": [
        "import types\n",
        "\n",
        "code = marshal.loads(code_string)\n",
        "func = types.FunctionType(code, globals(), \"some_func_name\")\n",
        "\n",
        "func(['blueberry'], query_ranked=False, recipe_range=(0,3))  # gives 100"
      ],
      "metadata": {
        "colab": {
          "base_uri": "https://localhost:8080/"
        },
        "id": "ui_WGigRchBZ",
        "outputId": "a0690cb7-cff6-4e05-ad45-3857fefe27cb"
      },
      "execution_count": 88,
      "outputs": [
        {
          "output_type": "stream",
          "name": "stdout",
          "text": [
            "Search Query: ['blueberry']\n",
            "\n",
            "Recipe Rank: 1\t Blueberry Coffee Cake \n",
            "\n",
            "Ingredients:\n",
            "3/4 c. sugar; 1/4 c. Crisco; 1 egg; 1/2 c. milk; 2 c. flour; 2 tsp. baking powder; 1/2 tsp. salt; 2 c. drained blueberries\n",
            " \n",
            "Instructions:\n",
            "Mix the first 7 ingredients first, then add blueberries; stir by hand. Bake at 375° for 45 to 50 minutes.\n",
            "\n",
            "Recipe Rank: 2\t Blueberry Muffins \n",
            "\n",
            "Ingredients:\n",
            "1/4 c. shortening; 1/2 c. sugar; 1/2 tsp. baking powder; 1/2 c. flour; 1/2 c. milk; 1 egg; 1/2 tsp. salt; 1 c. blueberries\n",
            " \n",
            "Instructions:\n",
            "Combine all ingredients, except the blueberries, and mix well. Stir in berries. Pour in muffin cup pan. Bake at 375° for 20 to 25 minutes.\n",
            "\n",
            "Recipe Rank: 3\t Blueberry Sauce \n",
            "\n",
            "Ingredients:\n",
            "1 qt. grape juice; 2 to 4 Tbsp. arrowroot powder or cornstarch; 2 c. frozen blueberries\n",
            " \n",
            "Instructions:\n",
            "Heat juice and arrowroot powder until thickened. Stir in blueberries and serve over toast or waffles.\n",
            "\n"
          ]
        }
      ]
    }
  ],
  "metadata": {
    "kernelspec": {
      "display_name": "Python 3",
      "language": "python",
      "name": "python3"
    },
    "language_info": {
      "codemirror_mode": {
        "name": "ipython",
        "version": 3
      },
      "file_extension": ".py",
      "mimetype": "text/x-python",
      "name": "python",
      "nbconvert_exporter": "python",
      "pygments_lexer": "ipython3",
      "version": "3.7.4"
    },
    "colab": {
      "provenance": []
    }
  },
  "nbformat": 4,
  "nbformat_minor": 0
}